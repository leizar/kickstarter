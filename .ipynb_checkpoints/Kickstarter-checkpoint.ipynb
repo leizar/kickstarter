{
 "cells": [
  {
   "cell_type": "code",
   "execution_count": 49,
   "metadata": {},
   "outputs": [],
   "source": [
    "%matplotlib inline\n",
    "import numpy as np\n",
    "import pandas as pd\n",
    "import matplotlib.pyplot as plt\n",
    "\n",
    "pd.options.display.float_format = '{:20,.2f}'.format #para arreglar la notacion cientifica"
   ]
  },
  {
   "cell_type": "code",
   "execution_count": 28,
   "metadata": {},
   "outputs": [
    {
     "data": {
      "text/html": [
       "<style>.container { width:100% !important; }</style>"
      ],
      "text/plain": [
       "<IPython.core.display.HTML object>"
      ]
     },
     "metadata": {},
     "output_type": "display_data"
    }
   ],
   "source": [
    "#Usar el area del monitor widescreen\n",
    "from IPython.core.display import display, HTML\n",
    "display(HTML(\"<style>.container { width:100% !important; }</style>\"))"
   ]
  },
  {
   "cell_type": "markdown",
   "metadata": {},
   "source": [
    "![title](data/kickstarter-logo.png)"
   ]
  },
  {
   "cell_type": "markdown",
   "metadata": {},
   "source": [
    "# Kickstarter Projects"
   ]
  },
  {
   "cell_type": "markdown",
   "metadata": {},
   "source": [
    "---\n",
    "###### Sobre el Proyecto:\n",
    "\n",
    "Ingestar, explorar, preparar, evaluar y visualizar detalles sobre el exito y fracaso de los proyectos propuestos en **Kickstarter** basado en el set de datos que se encuentra en: https://www.kaggle.com/kemical/kickstarter-projects"
   ]
  },
  {
   "cell_type": "markdown",
   "metadata": {},
   "source": [
    "###### Que es Kickstarter?\n",
    "\n",
    "> Kickstarter es una plataforma que provee a artistas, músicos, cineastas, diseñadores y otros creadores con los recursos y el apoyo necesarios para llevar sus ideas a la realidad. "
   ]
  },
  {
   "cell_type": "markdown",
   "metadata": {},
   "source": [
    "###### Hipotesis sobre factores que pueden influenciar en el exito o fracaso de un proyecto:\n",
    "1. La cantidad de dinero solicitado\n",
    "2. El tiempo disponible antes del fin de la publicacion\n",
    "3. Momento durante el año en que se publicó el proyecto\n",
    "4. Categoria del proyecto"
   ]
  },
  {
   "cell_type": "markdown",
   "metadata": {},
   "source": [
    "###### Informacion general de los Proyectos suminstrada por Kickstarter.com:\n",
    "    Indice de exito actual:                            36,92%\n",
    "    Contribuciones a proyectos financiados con exito: $3,78 B\n",
    "    Proyectos activos:                                 3.857"
   ]
  },
  {
   "cell_type": "markdown",
   "metadata": {},
   "source": [
    "## 1. Ingesta y exploracion:\n",
    "---\n",
    "En esta parte nos dedicaremos a ingestar los datos y luego obtner detalles de los mismos que nos permitan entender los datos y como estan relacionados entre si, ademas de buscar puntos de mejora y posibles ajustes a realizar antes de la evaluacion."
   ]
  },
  {
   "cell_type": "code",
   "execution_count": 54,
   "metadata": {},
   "outputs": [],
   "source": [
    "#Carga de archivos en diferentes dataframes\n",
    "data = pd.read_csv('data/ks-projects-201801.csv', low_memory=False)"
   ]
  },
  {
   "cell_type": "markdown",
   "metadata": {},
   "source": [
    "##### Prevista de primeras lineas:"
   ]
  },
  {
   "cell_type": "code",
   "execution_count": 55,
   "metadata": {
    "scrolled": true
   },
   "outputs": [
    {
     "data": {
      "text/html": [
       "<div>\n",
       "<style scoped>\n",
       "    .dataframe tbody tr th:only-of-type {\n",
       "        vertical-align: middle;\n",
       "    }\n",
       "\n",
       "    .dataframe tbody tr th {\n",
       "        vertical-align: top;\n",
       "    }\n",
       "\n",
       "    .dataframe thead th {\n",
       "        text-align: right;\n",
       "    }\n",
       "</style>\n",
       "<table border=\"1\" class=\"dataframe\">\n",
       "  <thead>\n",
       "    <tr style=\"text-align: right;\">\n",
       "      <th></th>\n",
       "      <th>ID</th>\n",
       "      <th>name</th>\n",
       "      <th>category</th>\n",
       "      <th>main_category</th>\n",
       "      <th>currency</th>\n",
       "      <th>deadline</th>\n",
       "      <th>goal</th>\n",
       "      <th>launched</th>\n",
       "      <th>pledged</th>\n",
       "      <th>state</th>\n",
       "      <th>backers</th>\n",
       "      <th>country</th>\n",
       "      <th>usd pledged</th>\n",
       "      <th>usd_pledged_real</th>\n",
       "      <th>usd_goal_real</th>\n",
       "    </tr>\n",
       "  </thead>\n",
       "  <tbody>\n",
       "    <tr>\n",
       "      <th>0</th>\n",
       "      <td>1000002330</td>\n",
       "      <td>The Songs of Adelaide &amp; Abullah</td>\n",
       "      <td>Poetry</td>\n",
       "      <td>Publishing</td>\n",
       "      <td>GBP</td>\n",
       "      <td>2015-10-09</td>\n",
       "      <td>1,000.00</td>\n",
       "      <td>2015-08-11 12:12:28</td>\n",
       "      <td>0.00</td>\n",
       "      <td>failed</td>\n",
       "      <td>0</td>\n",
       "      <td>GB</td>\n",
       "      <td>0.00</td>\n",
       "      <td>0.00</td>\n",
       "      <td>1,533.95</td>\n",
       "    </tr>\n",
       "    <tr>\n",
       "      <th>1</th>\n",
       "      <td>1000003930</td>\n",
       "      <td>Greeting From Earth: ZGAC Arts Capsule For ET</td>\n",
       "      <td>Narrative Film</td>\n",
       "      <td>Film &amp; Video</td>\n",
       "      <td>USD</td>\n",
       "      <td>2017-11-01</td>\n",
       "      <td>30,000.00</td>\n",
       "      <td>2017-09-02 04:43:57</td>\n",
       "      <td>2,421.00</td>\n",
       "      <td>failed</td>\n",
       "      <td>15</td>\n",
       "      <td>US</td>\n",
       "      <td>100.00</td>\n",
       "      <td>2,421.00</td>\n",
       "      <td>30,000.00</td>\n",
       "    </tr>\n",
       "    <tr>\n",
       "      <th>2</th>\n",
       "      <td>1000004038</td>\n",
       "      <td>Where is Hank?</td>\n",
       "      <td>Narrative Film</td>\n",
       "      <td>Film &amp; Video</td>\n",
       "      <td>USD</td>\n",
       "      <td>2013-02-26</td>\n",
       "      <td>45,000.00</td>\n",
       "      <td>2013-01-12 00:20:50</td>\n",
       "      <td>220.00</td>\n",
       "      <td>failed</td>\n",
       "      <td>3</td>\n",
       "      <td>US</td>\n",
       "      <td>220.00</td>\n",
       "      <td>220.00</td>\n",
       "      <td>45,000.00</td>\n",
       "    </tr>\n",
       "    <tr>\n",
       "      <th>3</th>\n",
       "      <td>1000007540</td>\n",
       "      <td>ToshiCapital Rekordz Needs Help to Complete Album</td>\n",
       "      <td>Music</td>\n",
       "      <td>Music</td>\n",
       "      <td>USD</td>\n",
       "      <td>2012-04-16</td>\n",
       "      <td>5,000.00</td>\n",
       "      <td>2012-03-17 03:24:11</td>\n",
       "      <td>1.00</td>\n",
       "      <td>failed</td>\n",
       "      <td>1</td>\n",
       "      <td>US</td>\n",
       "      <td>1.00</td>\n",
       "      <td>1.00</td>\n",
       "      <td>5,000.00</td>\n",
       "    </tr>\n",
       "    <tr>\n",
       "      <th>4</th>\n",
       "      <td>1000011046</td>\n",
       "      <td>Community Film Project: The Art of Neighborhoo...</td>\n",
       "      <td>Film &amp; Video</td>\n",
       "      <td>Film &amp; Video</td>\n",
       "      <td>USD</td>\n",
       "      <td>2015-08-29</td>\n",
       "      <td>19,500.00</td>\n",
       "      <td>2015-07-04 08:35:03</td>\n",
       "      <td>1,283.00</td>\n",
       "      <td>canceled</td>\n",
       "      <td>14</td>\n",
       "      <td>US</td>\n",
       "      <td>1,283.00</td>\n",
       "      <td>1,283.00</td>\n",
       "      <td>19,500.00</td>\n",
       "    </tr>\n",
       "  </tbody>\n",
       "</table>\n",
       "</div>"
      ],
      "text/plain": [
       "           ID                                               name  \\\n",
       "0  1000002330                    The Songs of Adelaide & Abullah   \n",
       "1  1000003930      Greeting From Earth: ZGAC Arts Capsule For ET   \n",
       "2  1000004038                                     Where is Hank?   \n",
       "3  1000007540  ToshiCapital Rekordz Needs Help to Complete Album   \n",
       "4  1000011046  Community Film Project: The Art of Neighborhoo...   \n",
       "\n",
       "         category main_category currency    deadline                 goal  \\\n",
       "0          Poetry    Publishing      GBP  2015-10-09             1,000.00   \n",
       "1  Narrative Film  Film & Video      USD  2017-11-01            30,000.00   \n",
       "2  Narrative Film  Film & Video      USD  2013-02-26            45,000.00   \n",
       "3           Music         Music      USD  2012-04-16             5,000.00   \n",
       "4    Film & Video  Film & Video      USD  2015-08-29            19,500.00   \n",
       "\n",
       "              launched              pledged     state  backers country  \\\n",
       "0  2015-08-11 12:12:28                 0.00    failed        0      GB   \n",
       "1  2017-09-02 04:43:57             2,421.00    failed       15      US   \n",
       "2  2013-01-12 00:20:50               220.00    failed        3      US   \n",
       "3  2012-03-17 03:24:11                 1.00    failed        1      US   \n",
       "4  2015-07-04 08:35:03             1,283.00  canceled       14      US   \n",
       "\n",
       "           usd pledged     usd_pledged_real        usd_goal_real  \n",
       "0                 0.00                 0.00             1,533.95  \n",
       "1               100.00             2,421.00            30,000.00  \n",
       "2               220.00               220.00            45,000.00  \n",
       "3                 1.00                 1.00             5,000.00  \n",
       "4             1,283.00             1,283.00            19,500.00  "
      ]
     },
     "execution_count": 55,
     "metadata": {},
     "output_type": "execute_result"
    }
   ],
   "source": [
    "data.head()"
   ]
  },
  {
   "cell_type": "code",
   "execution_count": 58,
   "metadata": {
    "scrolled": false
   },
   "outputs": [
    {
     "name": "stdout",
     "output_type": "stream",
     "text": [
      "<class 'pandas.core.frame.DataFrame'>\n",
      "RangeIndex: 378661 entries, 0 to 378660\n",
      "Data columns (total 15 columns):\n",
      "ID                  378661 non-null int64\n",
      "name                378657 non-null object\n",
      "category            378661 non-null object\n",
      "main_category       378661 non-null object\n",
      "currency            378661 non-null object\n",
      "deadline            378661 non-null object\n",
      "goal                378661 non-null float64\n",
      "launched            378661 non-null object\n",
      "pledged             378661 non-null float64\n",
      "state               378661 non-null object\n",
      "backers             378661 non-null int64\n",
      "country             378661 non-null object\n",
      "usd pledged         374864 non-null float64\n",
      "usd_pledged_real    378661 non-null float64\n",
      "usd_goal_real       378661 non-null float64\n",
      "dtypes: float64(5), int64(2), object(8)\n",
      "memory usage: 43.3+ MB\n"
     ]
    }
   ],
   "source": [
    "#Detalles del dataset\n",
    "data.info()"
   ]
  },
  {
   "cell_type": "markdown",
   "metadata": {},
   "source": [
    "Notas:\n",
    "1. *La cantidad de dinero aportado (usd pledged) no se encuentra 100% poblada (3.797 valores nulos)*\n",
    "2. *El set de datos contiene las columnas usd_pledged_real y usd_goal_real que fueron obtenidas por una herramienta externa que realizo una conversion de moneda basado en la fecha final del proyecto y que se encuentran 100% pobladas*"
   ]
  },
  {
   "cell_type": "code",
   "execution_count": 57,
   "metadata": {
    "scrolled": true
   },
   "outputs": [
    {
     "data": {
      "text/html": [
       "<div>\n",
       "<style scoped>\n",
       "    .dataframe tbody tr th:only-of-type {\n",
       "        vertical-align: middle;\n",
       "    }\n",
       "\n",
       "    .dataframe tbody tr th {\n",
       "        vertical-align: top;\n",
       "    }\n",
       "\n",
       "    .dataframe thead th {\n",
       "        text-align: right;\n",
       "    }\n",
       "</style>\n",
       "<table border=\"1\" class=\"dataframe\">\n",
       "  <thead>\n",
       "    <tr style=\"text-align: right;\">\n",
       "      <th></th>\n",
       "      <th>ID</th>\n",
       "      <th>goal</th>\n",
       "      <th>pledged</th>\n",
       "      <th>backers</th>\n",
       "      <th>usd pledged</th>\n",
       "      <th>usd_pledged_real</th>\n",
       "      <th>usd_goal_real</th>\n",
       "    </tr>\n",
       "  </thead>\n",
       "  <tbody>\n",
       "    <tr>\n",
       "      <th>count</th>\n",
       "      <td>378,661.00</td>\n",
       "      <td>378,661.00</td>\n",
       "      <td>378,661.00</td>\n",
       "      <td>378,661.00</td>\n",
       "      <td>374,864.00</td>\n",
       "      <td>378,661.00</td>\n",
       "      <td>378,661.00</td>\n",
       "    </tr>\n",
       "    <tr>\n",
       "      <th>mean</th>\n",
       "      <td>1,074,731,191.99</td>\n",
       "      <td>49,080.79</td>\n",
       "      <td>9,682.98</td>\n",
       "      <td>105.62</td>\n",
       "      <td>7,036.73</td>\n",
       "      <td>9,058.92</td>\n",
       "      <td>45,454.40</td>\n",
       "    </tr>\n",
       "    <tr>\n",
       "      <th>std</th>\n",
       "      <td>619,086,204.32</td>\n",
       "      <td>1,183,391.26</td>\n",
       "      <td>95,636.01</td>\n",
       "      <td>907.19</td>\n",
       "      <td>78,639.75</td>\n",
       "      <td>90,973.34</td>\n",
       "      <td>1,152,950.06</td>\n",
       "    </tr>\n",
       "    <tr>\n",
       "      <th>min</th>\n",
       "      <td>5,971.00</td>\n",
       "      <td>0.01</td>\n",
       "      <td>0.00</td>\n",
       "      <td>0.00</td>\n",
       "      <td>0.00</td>\n",
       "      <td>0.00</td>\n",
       "      <td>0.01</td>\n",
       "    </tr>\n",
       "    <tr>\n",
       "      <th>25%</th>\n",
       "      <td>538,263,516.00</td>\n",
       "      <td>2,000.00</td>\n",
       "      <td>30.00</td>\n",
       "      <td>2.00</td>\n",
       "      <td>16.98</td>\n",
       "      <td>31.00</td>\n",
       "      <td>2,000.00</td>\n",
       "    </tr>\n",
       "    <tr>\n",
       "      <th>50%</th>\n",
       "      <td>1,075,275,634.00</td>\n",
       "      <td>5,200.00</td>\n",
       "      <td>620.00</td>\n",
       "      <td>12.00</td>\n",
       "      <td>394.72</td>\n",
       "      <td>624.33</td>\n",
       "      <td>5,500.00</td>\n",
       "    </tr>\n",
       "    <tr>\n",
       "      <th>75%</th>\n",
       "      <td>1,610,148,624.00</td>\n",
       "      <td>16,000.00</td>\n",
       "      <td>4,076.00</td>\n",
       "      <td>56.00</td>\n",
       "      <td>3,034.09</td>\n",
       "      <td>4,050.00</td>\n",
       "      <td>15,500.00</td>\n",
       "    </tr>\n",
       "    <tr>\n",
       "      <th>max</th>\n",
       "      <td>2,147,476,221.00</td>\n",
       "      <td>100,000,000.00</td>\n",
       "      <td>20,338,986.27</td>\n",
       "      <td>219,382.00</td>\n",
       "      <td>20,338,986.27</td>\n",
       "      <td>20,338,986.27</td>\n",
       "      <td>166,361,390.71</td>\n",
       "    </tr>\n",
       "  </tbody>\n",
       "</table>\n",
       "</div>"
      ],
      "text/plain": [
       "                        ID                 goal              pledged  \\\n",
       "count           378,661.00           378,661.00           378,661.00   \n",
       "mean      1,074,731,191.99            49,080.79             9,682.98   \n",
       "std         619,086,204.32         1,183,391.26            95,636.01   \n",
       "min               5,971.00                 0.01                 0.00   \n",
       "25%         538,263,516.00             2,000.00                30.00   \n",
       "50%       1,075,275,634.00             5,200.00               620.00   \n",
       "75%       1,610,148,624.00            16,000.00             4,076.00   \n",
       "max       2,147,476,221.00       100,000,000.00        20,338,986.27   \n",
       "\n",
       "                   backers          usd pledged     usd_pledged_real  \\\n",
       "count           378,661.00           374,864.00           378,661.00   \n",
       "mean                105.62             7,036.73             9,058.92   \n",
       "std                 907.19            78,639.75            90,973.34   \n",
       "min                   0.00                 0.00                 0.00   \n",
       "25%                   2.00                16.98                31.00   \n",
       "50%                  12.00               394.72               624.33   \n",
       "75%                  56.00             3,034.09             4,050.00   \n",
       "max             219,382.00        20,338,986.27        20,338,986.27   \n",
       "\n",
       "             usd_goal_real  \n",
       "count           378,661.00  \n",
       "mean             45,454.40  \n",
       "std           1,152,950.06  \n",
       "min                   0.01  \n",
       "25%               2,000.00  \n",
       "50%               5,500.00  \n",
       "75%              15,500.00  \n",
       "max         166,361,390.71  "
      ]
     },
     "execution_count": 57,
     "metadata": {},
     "output_type": "execute_result"
    }
   ],
   "source": [
    "#Detalle de los valores numericos\n",
    "data.describe()"
   ]
  },
  {
   "cell_type": "markdown",
   "metadata": {},
   "source": [
    "Notas:\n",
    "1. *La cantidad de USD promedio para lograr alcanzar el objetivo de un proyecto es de \\$45,454*\n",
    "2. *La candidad promedio de dinero aportardo en un proyecto es de \\$9,058*\n",
    "3. *La cantidad promedio de persona que brindan soporte a un proyecto es de 105*\n",
    "4. *La maxima cantidad de dinero solicitado para un proyecto es de mas de \\$166 millones*\n",
    "5. *La maxima cantidad de dinero recaudado para un proyecto es de mas de \\$20 millones*"
   ]
  },
  {
   "cell_type": "code",
   "execution_count": 62,
   "metadata": {},
   "outputs": [
    {
     "data": {
      "text/plain": [
       "ID                  378661\n",
       "name                375764\n",
       "category               159\n",
       "main_category           15\n",
       "currency                14\n",
       "deadline              3164\n",
       "goal                  8353\n",
       "launched            378089\n",
       "pledged              62130\n",
       "state                    6\n",
       "backers               3963\n",
       "country                 23\n",
       "usd pledged          95455\n",
       "usd_pledged_real    106065\n",
       "usd_goal_real        50339\n",
       "dtype: int64"
      ]
     },
     "execution_count": 62,
     "metadata": {},
     "output_type": "execute_result"
    }
   ],
   "source": [
    "#Valores unicos por columna\n",
    "data.apply(pd.Series.nunique)"
   ]
  },
  {
   "cell_type": "markdown",
   "metadata": {},
   "source": [
    "Notas:\n",
    "1. *Hay un posible correlacion entre category y main_category*\n",
    "2. *Hay 14 posibles tipos de moneda*\n",
    "3. *Un proyecto puede tener 6 estados diferentes*\n",
    "4. *Hay proyectos de 23 paises diferentes*"
   ]
  },
  {
   "cell_type": "markdown",
   "metadata": {},
   "source": [
    "#### Categorias"
   ]
  },
  {
   "cell_type": "code",
   "execution_count": 131,
   "metadata": {
    "scrolled": true
   },
   "outputs": [
    {
     "data": {
      "text/plain": [
       "main_category  category         \n",
       "Art            Art                  8253\n",
       "               Ceramics              305\n",
       "               Conceptual Art       1030\n",
       "               Digital Art          1346\n",
       "               Illustration         3175\n",
       "               Installations         482\n",
       "               Mixed Media          2757\n",
       "               Painting             3294\n",
       "               Performance Art      2154\n",
       "               Public Art           3077\n",
       "               Sculpture            1810\n",
       "               Textiles              276\n",
       "               Video Art             194\n",
       "Comics         Anthologies           405\n",
       "               Comic Books          2743\n",
       "               Comics               4996\n",
       "               Events                163\n",
       "               Graphic Novels       1864\n",
       "               Webcomics             648\n",
       "Crafts         Candles               429\n",
       "               Crafts               4664\n",
       "               Crochet               162\n",
       "               DIY                  1173\n",
       "               Embroidery            113\n",
       "               Glass                 138\n",
       "               Knitting              181\n",
       "               Letterpress            38\n",
       "               Pottery               100\n",
       "               Printing              238\n",
       "               Quilts                 81\n",
       "                                    ... \n",
       "Publishing     Poetry               1369\n",
       "               Publishing           6018\n",
       "               Radio & Podcasts      923\n",
       "               Translations          153\n",
       "               Young Adult           821\n",
       "               Zines                 391\n",
       "Technology     3D Printing           683\n",
       "               Apps                 6345\n",
       "               Camera Equipment      416\n",
       "               DIY Electronics       902\n",
       "               Fabrication Tools     250\n",
       "               Flight                426\n",
       "               Gadgets              2965\n",
       "               Hardware             3663\n",
       "               Makerspaces           238\n",
       "               Robots                572\n",
       "               Software             3048\n",
       "               Sound                 669\n",
       "               Space Exploration     323\n",
       "               Technology           6930\n",
       "               Wearables            1233\n",
       "               Web                  3906\n",
       "Theater        Comedy                101\n",
       "               Experimental          373\n",
       "               Festivals             548\n",
       "               Immersive             330\n",
       "               Musical               913\n",
       "               Plays                1378\n",
       "               Spaces                213\n",
       "               Theater              7057\n",
       "Length: 170, dtype: int64"
      ]
     },
     "execution_count": 131,
     "metadata": {},
     "output_type": "execute_result"
    }
   ],
   "source": [
    "#Validacion de relacion entre category y main_category\n",
    "data.groupby(['main_category', 'category']).size()"
   ]
  },
  {
   "cell_type": "code",
   "execution_count": 130,
   "metadata": {},
   "outputs": [
    {
     "data": {
      "text/plain": [
       "<matplotlib.axes._subplots.AxesSubplot at 0x133418240>"
      ]
     },
     "execution_count": 130,
     "metadata": {},
     "output_type": "execute_result"
    },
    {
     "data": {
      "image/png": "[encoded data removed]",
      "text/plain": [
       "<Figure size 432x288 with 1 Axes>"
      ]
     },
     "metadata": {},
     "output_type": "display_data"
    }
   ],
   "source": [
    "data.dropna(subset=[\"main_category\"])\n",
    "datos = data.groupby(\"main_category\")[\"category\"].count().sort_values(ascending=False)[:15]\n",
    "\n",
    "def obtenerLabel(percentage):\n",
    "    label = datos.sum()*percentage//100\n",
    "    return str(label)\n",
    "\n",
    "datos.plot(kind=\"pie\", autopct=obtenerLabel)"
   ]
  },
  {
   "cell_type": "markdown",
   "metadata": {},
   "source": [
    "#### Moneda"
   ]
  },
  {
   "cell_type": "code",
   "execution_count": 105,
   "metadata": {
    "scrolled": true
   },
   "outputs": [
    {
     "data": {
      "text/plain": [
       "currency\n",
       "AUD      7950\n",
       "CAD     14962\n",
       "CHF       768\n",
       "DKK      1129\n",
       "EUR     17405\n",
       "GBP     34132\n",
       "HKD       618\n",
       "JPY        40\n",
       "MXN      1752\n",
       "NOK       722\n",
       "NZD      1475\n",
       "SEK      1788\n",
       "SGD       555\n",
       "USD    295365\n",
       "dtype: int64"
      ]
     },
     "execution_count": 105,
     "metadata": {},
     "output_type": "execute_result"
    }
   ],
   "source": [
    "#dist\n",
    "data.groupby(['currency']).size()"
   ]
  },
  {
   "cell_type": "code",
   "execution_count": 129,
   "metadata": {
    "scrolled": true
   },
   "outputs": [
    {
     "data": {
      "image/png": "[encoded data removed]",
      "text/plain": [
       "<Figure size 720x360 with 1 Axes>"
      ]
     },
     "metadata": {
      "needs_background": "light"
     },
     "output_type": "display_data"
    }
   ],
   "source": [
    "valores = data.groupby('currency')['currency'].count()\n",
    "\n",
    "# Plot the figure.\n",
    "plt.figure(figsize=(10, 5))\n",
    "ax = valores.plot(kind='bar')\n",
    "ax.set_title('Distribucion de tipos de moneda')\n",
    "ax.set_xlabel('Moneda')\n",
    "ax.set_ylabel('Total de proyectos')\n",
    "\n",
    "barras = ax.patches\n",
    "\n",
    "for barra, label in zip(barras, valores.values):\n",
    "    height = barra.get_height()\n",
    "    ax.text(barra.get_x() + barra.get_width() / 2, height, str(label)[:7],\n",
    "            ha='center', va='bottom')\n"
   ]
  },
  {
   "cell_type": "markdown",
   "metadata": {},
   "source": [
    "Nota:\n",
    " 1. *La columna usd_pledged_real convierte el valor monetario de las monedas que no son norteamericanas a USD*"
   ]
  },
  {
   "cell_type": "markdown",
   "metadata": {},
   "source": [
    "#### Estados de Proyectos"
   ]
  },
  {
   "cell_type": "code",
   "execution_count": 137,
   "metadata": {},
   "outputs": [
    {
     "data": {
      "image/png": "[encoded data removed]",
      "text/plain": [
       "<Figure size 720x360 with 1 Axes>"
      ]
     },
     "metadata": {
      "needs_background": "light"
     },
     "output_type": "display_data"
    }
   ],
   "source": [
    "valores = data.groupby('state')['state'].count()\n",
    "\n",
    "# Plot the figure.\n",
    "plt.figure(figsize=(10, 5))\n",
    "ax = valores.plot(kind='bar')\n",
    "ax.set_title('Distribucion de tipos de estado')\n",
    "ax.set_xlabel('Estado')\n",
    "ax.set_ylabel('Total de proyectos')\n",
    "\n",
    "barras = ax.patches\n",
    "\n",
    "for barra, label in zip(barras, valores.values):\n",
    "    height = barra.get_height()\n",
    "    ax.text(barra.get_x() + barra.get_width() / 2, height, str(label)[:7],\n",
    "            ha='center', va='bottom')\n"
   ]
  },
  {
   "cell_type": "markdown",
   "metadata": {},
   "source": [
    "Nota:\n",
    "1. *Para propositos de la evaluacion solo serian de interes los estados failed y sucessful*"
   ]
  },
  {
   "cell_type": "markdown",
   "metadata": {},
   "source": [
    "#### Paises"
   ]
  },
  {
   "cell_type": "code",
   "execution_count": 138,
   "metadata": {},
   "outputs": [
    {
     "data": {
      "text/plain": [
       "country\n",
       "AT         597\n",
       "AU        7839\n",
       "BE         617\n",
       "CA       14756\n",
       "CH         761\n",
       "DE        4171\n",
       "DK        1113\n",
       "ES        2276\n",
       "FR        2939\n",
       "GB       33672\n",
       "HK         618\n",
       "IE         811\n",
       "IT        2878\n",
       "JP          40\n",
       "LU          62\n",
       "MX        1752\n",
       "N,0\"      3797\n",
       "NL        2868\n",
       "NO         708\n",
       "NZ        1447\n",
       "SE        1757\n",
       "SG         555\n",
       "US      292627\n",
       "dtype: int64"
      ]
     },
     "execution_count": 138,
     "metadata": {},
     "output_type": "execute_result"
    }
   ],
   "source": [
    "data.groupby(['country']).size()"
   ]
  },
  {
   "cell_type": "code",
   "execution_count": 140,
   "metadata": {},
   "outputs": [
    {
     "data": {
      "image/png": "[encoded data removed]",
      "text/plain": [
       "<Figure size 1080x360 with 1 Axes>"
      ]
     },
     "metadata": {
      "needs_background": "light"
     },
     "output_type": "display_data"
    }
   ],
   "source": [
    "valores = data.groupby('country')['country'].count()\n",
    "\n",
    "# Plot the figure.\n",
    "plt.figure(figsize=(15, 5))\n",
    "ax = valores.plot(kind='bar')\n",
    "ax.set_title('Distribucion de Paises')\n",
    "ax.set_xlabel('Pais')\n",
    "ax.set_ylabel('Total de proyectos')\n",
    "\n",
    "barras = ax.patches\n",
    "\n",
    "for barra, label in zip(barras, valores.values):\n",
    "    height = barra.get_height()\n",
    "    ax.text(barra.get_x() + barra.get_width() / 2, height, str(label)[:7],\n",
    "            ha='center', va='bottom')"
   ]
  },
  {
   "cell_type": "markdown",
   "metadata": {},
   "source": [
    "Notas:\n",
    "1. *Hay 3,797 registros con un codigo de pais invalido: N,0\""
   ]
  },
  {
   "cell_type": "markdown",
   "metadata": {},
   "source": [
    "###### Concluciones de la exploracion:\n",
    "\n",
    "1. Las estadisticas generales muestran que el aporte promedio a los proyectos es mucho menor al promedio de dinero general de los proyectos\n",
    "2. Hay 5 categorias populares que abarcan la mayoria de los proyectos\n",
    "3. No hay necesidad de usar las monedas especificas de los proyectos ya que las mismas fueron transformadas a USD\n",
    "4. Hay 4 estados de un proyecto que no son de utilidad para el proposito del analisis\n",
    "5. Hay datos invalidos en el codigo de pais que podrian ser eliminados para no entorpecer el proceso"
   ]
  },
  {
   "cell_type": "markdown",
   "metadata": {},
   "source": [
    "## 2. Preparacion y evaluacion de los datos:\n",
    "---\n",
    "Luego de explorar los datos procedemos a definir y aplicar reglas de datos para remover, consolidar y en general preparar los datos para su evaluación"
   ]
  },
  {
   "cell_type": "code",
   "execution_count": 171,
   "metadata": {},
   "outputs": [
    {
     "data": {
      "text/plain": [
       "state\n",
       "failed        197719\n",
       "successful    133956\n",
       "dtype: int64"
      ]
     },
     "execution_count": 171,
     "metadata": {},
     "output_type": "execute_result"
    }
   ],
   "source": [
    "#Creando data set con solo proyectos fallidos y completados\n",
    "data_prep = data[data[\"state\"].isin([\"failed\", \"successful\"])]\n",
    "\n",
    "data_prep.groupby(['state']).size()"
   ]
  },
  {
   "cell_type": "code",
   "execution_count": 187,
   "metadata": {},
   "outputs": [],
   "source": [
    "#Creando datafram con la agrupacion del los estados para luego obetner su porcentage\n",
    "data_group = data_prep.groupby(['state']).size()\n",
    "\n",
    "data_group = pd.DataFrame([data_group])\n",
    "data_group = data_group.T # transform\n",
    "data_group.columns = ['total']"
   ]
  },
  {
   "cell_type": "code",
   "execution_count": 188,
   "metadata": {},
   "outputs": [
    {
     "data": {
      "text/html": [
       "<div>\n",
       "<style scoped>\n",
       "    .dataframe tbody tr th:only-of-type {\n",
       "        vertical-align: middle;\n",
       "    }\n",
       "\n",
       "    .dataframe tbody tr th {\n",
       "        vertical-align: top;\n",
       "    }\n",
       "\n",
       "    .dataframe thead th {\n",
       "        text-align: right;\n",
       "    }\n",
       "</style>\n",
       "<table border=\"1\" class=\"dataframe\">\n",
       "  <thead>\n",
       "    <tr style=\"text-align: right;\">\n",
       "      <th></th>\n",
       "      <th>total</th>\n",
       "    </tr>\n",
       "    <tr>\n",
       "      <th>state</th>\n",
       "      <th></th>\n",
       "    </tr>\n",
       "  </thead>\n",
       "  <tbody>\n",
       "    <tr>\n",
       "      <th>failed</th>\n",
       "      <td>197719</td>\n",
       "    </tr>\n",
       "    <tr>\n",
       "      <th>successful</th>\n",
       "      <td>133956</td>\n",
       "    </tr>\n",
       "  </tbody>\n",
       "</table>\n",
       "</div>"
      ],
      "text/plain": [
       "             total\n",
       "state             \n",
       "failed      197719\n",
       "successful  133956"
      ]
     },
     "execution_count": 188,
     "metadata": {},
     "output_type": "execute_result"
    }
   ],
   "source": [
    "data_group.head()"
   ]
  },
  {
   "cell_type": "code",
   "execution_count": 189,
   "metadata": {},
   "outputs": [],
   "source": [
    "#generacion de porcentage\n",
    "def compute_percentage(x):\n",
    "    pct = float(x/data_group['total'].sum()) * 100\n",
    "    return round(pct, 2)\n",
    "\n",
    "data_group['percentage'] = data_group.apply(compute_percentage, axis=1)\n",
    "\n",
    "data_group['estado'] = data_group.index"
   ]
  },
  {
   "cell_type": "code",
   "execution_count": 190,
   "metadata": {},
   "outputs": [
    {
     "data": {
      "text/html": [
       "<div>\n",
       "<style scoped>\n",
       "    .dataframe tbody tr th:only-of-type {\n",
       "        vertical-align: middle;\n",
       "    }\n",
       "\n",
       "    .dataframe tbody tr th {\n",
       "        vertical-align: top;\n",
       "    }\n",
       "\n",
       "    .dataframe thead th {\n",
       "        text-align: right;\n",
       "    }\n",
       "</style>\n",
       "<table border=\"1\" class=\"dataframe\">\n",
       "  <thead>\n",
       "    <tr style=\"text-align: right;\">\n",
       "      <th></th>\n",
       "      <th>total</th>\n",
       "      <th>percentage</th>\n",
       "      <th>estado</th>\n",
       "    </tr>\n",
       "    <tr>\n",
       "      <th>state</th>\n",
       "      <th></th>\n",
       "      <th></th>\n",
       "      <th></th>\n",
       "    </tr>\n",
       "  </thead>\n",
       "  <tbody>\n",
       "    <tr>\n",
       "      <th>failed</th>\n",
       "      <td>197719</td>\n",
       "      <td>59.61</td>\n",
       "      <td>failed</td>\n",
       "    </tr>\n",
       "    <tr>\n",
       "      <th>successful</th>\n",
       "      <td>133956</td>\n",
       "      <td>40.39</td>\n",
       "      <td>successful</td>\n",
       "    </tr>\n",
       "  </tbody>\n",
       "</table>\n",
       "</div>"
      ],
      "text/plain": [
       "             total           percentage      estado\n",
       "state                                              \n",
       "failed      197719                59.61      failed\n",
       "successful  133956                40.39  successful"
      ]
     },
     "execution_count": 190,
     "metadata": {},
     "output_type": "execute_result"
    }
   ],
   "source": [
    "data_group.head()"
   ]
  },
  {
   "cell_type": "code",
   "execution_count": 194,
   "metadata": {},
   "outputs": [
    {
     "data": {
      "image/png": "[encoded data removed]",
      "text/plain": [
       "<Figure size 432x288 with 1 Axes>"
      ]
     },
     "metadata": {},
     "output_type": "display_data"
    }
   ],
   "source": [
    "# Visualizacion de proyectos fallidos vs completos\n",
    "labels = data_group['estado']\n",
    "sizes = data_group['percentage']\n",
    "explode = (0.1, 0)  # only \"explode\" the 2nd slice (i.e. 'Hogs')\n",
    "\n",
    "fig1, ax1 = plt.subplots()\n",
    "ax1.pie(sizes, explode=explode, labels=labels, autopct='%1.1f%%',\n",
    "        shadow=True, startangle=90)\n",
    "ax1.axis('equal')  # Equal aspect ratio ensures that pie is drawn as a circle.\n",
    "\n",
    "plt.show()"
   ]
  },
  {
   "cell_type": "markdown",
   "metadata": {},
   "source": [
    "Notas: *al omitir los otros estados podemos ver que la relación entre proyectos cumplidos vs fallidos es de 60% - 40%*"
   ]
  },
  {
   "cell_type": "code",
   "execution_count": 200,
   "metadata": {},
   "outputs": [],
   "source": [
    "#remover columnas que no van a ser utilizadas en del dataframe\n",
    "data_prep = data_prep.drop([\"currency\"], axis = 1)\n",
    "data_prep = data_prep.drop([\"goal\"], axis = 1)\n",
    "data_prep = data_prep.drop([\"pledged\"], axis = 1)\n",
    "data_prep = data_prep.drop([\"usd pledged\"], axis = 1)\n"
   ]
  },
  {
   "cell_type": "code",
   "execution_count": 201,
   "metadata": {
    "scrolled": true
   },
   "outputs": [
    {
     "name": "stdout",
     "output_type": "stream",
     "text": [
      "<class 'pandas.core.frame.DataFrame'>\n",
      "Int64Index: 331675 entries, 0 to 378660\n",
      "Data columns (total 11 columns):\n",
      "ID                  331675 non-null int64\n",
      "name                331672 non-null object\n",
      "category            331675 non-null object\n",
      "main_category       331675 non-null object\n",
      "deadline            331675 non-null object\n",
      "launched            331675 non-null object\n",
      "state               331675 non-null object\n",
      "backers             331675 non-null int64\n",
      "country             331675 non-null object\n",
      "usd_pledged_real    331675 non-null float64\n",
      "usd_goal_real       331675 non-null float64\n",
      "dtypes: float64(2), int64(2), object(7)\n",
      "memory usage: 40.4+ MB\n"
     ]
    }
   ],
   "source": [
    "data_prep.info()"
   ]
  },
  {
   "cell_type": "code",
   "execution_count": 204,
   "metadata": {},
   "outputs": [
    {
     "name": "stdout",
     "output_type": "stream",
     "text": [
      "<class 'pandas.core.frame.DataFrame'>\n",
      "Int64Index: 331672 entries, 0 to 378660\n",
      "Data columns (total 11 columns):\n",
      "ID                  331672 non-null int64\n",
      "name                331672 non-null object\n",
      "category            331672 non-null object\n",
      "main_category       331672 non-null object\n",
      "deadline            331672 non-null object\n",
      "launched            331672 non-null object\n",
      "state               331672 non-null object\n",
      "backers             331672 non-null int64\n",
      "country             331672 non-null object\n",
      "usd_pledged_real    331672 non-null float64\n",
      "usd_goal_real       331672 non-null float64\n",
      "dtypes: float64(2), int64(2), object(7)\n",
      "memory usage: 30.4+ MB\n"
     ]
    }
   ],
   "source": [
    "#buscando duplicados\n",
    "data_prep = data_prep.dropna()\n",
    "\n",
    "data_prep.info()"
   ]
  },
  {
   "cell_type": "markdown",
   "metadata": {},
   "source": [
    "*3 registros eliminados*"
   ]
  },
  {
   "cell_type": "code",
   "execution_count": 211,
   "metadata": {},
   "outputs": [],
   "source": [
    "#preparar las fechas y generar duraciones\n",
    "\n",
    "#cambiar columnas a datetime\n",
    "data_prep['launched'] = pd.to_datetime(data_prep['launched'])\n",
    "data_prep['deadline'] = pd.to_datetime(data_prep['deadline'])\n",
    "\n",
    "data_prep[\"year_start\"] = data_prep[\"launched\"].dt.year  #extraer año\n",
    "data_prep[\"month_start\"] = data_prep[\"launched\"].dt.month #extraer mes\n",
    "data_prep[\"project_time\"] = data_prep[\"deadline\"] - data_prep[\"launched\"] #diff en tiempo\n",
    "data_prep[\"project_time\"] = data_prep[\"project_time\"].apply(lambda x: int(str(x).split()[0]))\n",
    "data_prep[\"state_bool\"] = data_prep[\"state\"].apply(lambda x: 1 if x==\"successful\" else 0) #booleando de estado"
   ]
  },
  {
   "cell_type": "code",
   "execution_count": 213,
   "metadata": {
    "scrolled": true
   },
   "outputs": [
    {
     "data": {
      "text/html": [
       "<div>\n",
       "<style scoped>\n",
       "    .dataframe tbody tr th:only-of-type {\n",
       "        vertical-align: middle;\n",
       "    }\n",
       "\n",
       "    .dataframe tbody tr th {\n",
       "        vertical-align: top;\n",
       "    }\n",
       "\n",
       "    .dataframe thead th {\n",
       "        text-align: right;\n",
       "    }\n",
       "</style>\n",
       "<table border=\"1\" class=\"dataframe\">\n",
       "  <thead>\n",
       "    <tr style=\"text-align: right;\">\n",
       "      <th></th>\n",
       "      <th>ID</th>\n",
       "      <th>name</th>\n",
       "      <th>category</th>\n",
       "      <th>main_category</th>\n",
       "      <th>deadline</th>\n",
       "      <th>launched</th>\n",
       "      <th>state</th>\n",
       "      <th>backers</th>\n",
       "      <th>country</th>\n",
       "      <th>usd_pledged_real</th>\n",
       "      <th>usd_goal_real</th>\n",
       "      <th>year_start</th>\n",
       "      <th>month_start</th>\n",
       "      <th>project_time</th>\n",
       "      <th>state_bool</th>\n",
       "    </tr>\n",
       "  </thead>\n",
       "  <tbody>\n",
       "    <tr>\n",
       "      <th>0</th>\n",
       "      <td>1000002330</td>\n",
       "      <td>The Songs of Adelaide &amp; Abullah</td>\n",
       "      <td>Poetry</td>\n",
       "      <td>Publishing</td>\n",
       "      <td>2015-10-09</td>\n",
       "      <td>2015-08-11 12:12:28</td>\n",
       "      <td>failed</td>\n",
       "      <td>0</td>\n",
       "      <td>GB</td>\n",
       "      <td>0.00</td>\n",
       "      <td>1,533.95</td>\n",
       "      <td>2015</td>\n",
       "      <td>8</td>\n",
       "      <td>58</td>\n",
       "      <td>0</td>\n",
       "    </tr>\n",
       "    <tr>\n",
       "      <th>1</th>\n",
       "      <td>1000003930</td>\n",
       "      <td>Greeting From Earth: ZGAC Arts Capsule For ET</td>\n",
       "      <td>Narrative Film</td>\n",
       "      <td>Film &amp; Video</td>\n",
       "      <td>2017-11-01</td>\n",
       "      <td>2017-09-02 04:43:57</td>\n",
       "      <td>failed</td>\n",
       "      <td>15</td>\n",
       "      <td>US</td>\n",
       "      <td>2,421.00</td>\n",
       "      <td>30,000.00</td>\n",
       "      <td>2017</td>\n",
       "      <td>9</td>\n",
       "      <td>59</td>\n",
       "      <td>0</td>\n",
       "    </tr>\n",
       "    <tr>\n",
       "      <th>2</th>\n",
       "      <td>1000004038</td>\n",
       "      <td>Where is Hank?</td>\n",
       "      <td>Narrative Film</td>\n",
       "      <td>Film &amp; Video</td>\n",
       "      <td>2013-02-26</td>\n",
       "      <td>2013-01-12 00:20:50</td>\n",
       "      <td>failed</td>\n",
       "      <td>3</td>\n",
       "      <td>US</td>\n",
       "      <td>220.00</td>\n",
       "      <td>45,000.00</td>\n",
       "      <td>2013</td>\n",
       "      <td>1</td>\n",
       "      <td>44</td>\n",
       "      <td>0</td>\n",
       "    </tr>\n",
       "    <tr>\n",
       "      <th>3</th>\n",
       "      <td>1000007540</td>\n",
       "      <td>ToshiCapital Rekordz Needs Help to Complete Album</td>\n",
       "      <td>Music</td>\n",
       "      <td>Music</td>\n",
       "      <td>2012-04-16</td>\n",
       "      <td>2012-03-17 03:24:11</td>\n",
       "      <td>failed</td>\n",
       "      <td>1</td>\n",
       "      <td>US</td>\n",
       "      <td>1.00</td>\n",
       "      <td>5,000.00</td>\n",
       "      <td>2012</td>\n",
       "      <td>3</td>\n",
       "      <td>29</td>\n",
       "      <td>0</td>\n",
       "    </tr>\n",
       "    <tr>\n",
       "      <th>5</th>\n",
       "      <td>1000014025</td>\n",
       "      <td>Monarch Espresso Bar</td>\n",
       "      <td>Restaurants</td>\n",
       "      <td>Food</td>\n",
       "      <td>2016-04-01</td>\n",
       "      <td>2016-02-26 13:38:27</td>\n",
       "      <td>successful</td>\n",
       "      <td>224</td>\n",
       "      <td>US</td>\n",
       "      <td>52,375.00</td>\n",
       "      <td>50,000.00</td>\n",
       "      <td>2016</td>\n",
       "      <td>2</td>\n",
       "      <td>34</td>\n",
       "      <td>1</td>\n",
       "    </tr>\n",
       "  </tbody>\n",
       "</table>\n",
       "</div>"
      ],
      "text/plain": [
       "           ID                                               name  \\\n",
       "0  1000002330                    The Songs of Adelaide & Abullah   \n",
       "1  1000003930      Greeting From Earth: ZGAC Arts Capsule For ET   \n",
       "2  1000004038                                     Where is Hank?   \n",
       "3  1000007540  ToshiCapital Rekordz Needs Help to Complete Album   \n",
       "5  1000014025                               Monarch Espresso Bar   \n",
       "\n",
       "         category main_category   deadline            launched       state  \\\n",
       "0          Poetry    Publishing 2015-10-09 2015-08-11 12:12:28      failed   \n",
       "1  Narrative Film  Film & Video 2017-11-01 2017-09-02 04:43:57      failed   \n",
       "2  Narrative Film  Film & Video 2013-02-26 2013-01-12 00:20:50      failed   \n",
       "3           Music         Music 2012-04-16 2012-03-17 03:24:11      failed   \n",
       "5     Restaurants          Food 2016-04-01 2016-02-26 13:38:27  successful   \n",
       "\n",
       "   backers country     usd_pledged_real        usd_goal_real  year_start  \\\n",
       "0        0      GB                 0.00             1,533.95        2015   \n",
       "1       15      US             2,421.00            30,000.00        2017   \n",
       "2        3      US               220.00            45,000.00        2013   \n",
       "3        1      US                 1.00             5,000.00        2012   \n",
       "5      224      US            52,375.00            50,000.00        2016   \n",
       "\n",
       "   month_start  project_time  state_bool  \n",
       "0            8            58           0  \n",
       "1            9            59           0  \n",
       "2            1            44           0  \n",
       "3            3            29           0  \n",
       "5            2            34           1  "
      ]
     },
     "execution_count": 213,
     "metadata": {},
     "output_type": "execute_result"
    }
   ],
   "source": [
    "data_prep.head()"
   ]
  },
  {
   "cell_type": "markdown",
   "metadata": {},
   "source": [
    "### Evaluacion de estatisticas generales de proyectos satisfactorios vs fallidos:"
   ]
  },
  {
   "cell_type": "code",
   "execution_count": 218,
   "metadata": {},
   "outputs": [
    {
     "data": {
      "text/html": [
       "<div>\n",
       "<style scoped>\n",
       "    .dataframe tbody tr th:only-of-type {\n",
       "        vertical-align: middle;\n",
       "    }\n",
       "\n",
       "    .dataframe tbody tr th {\n",
       "        vertical-align: top;\n",
       "    }\n",
       "\n",
       "    .dataframe thead th {\n",
       "        text-align: right;\n",
       "    }\n",
       "</style>\n",
       "<table border=\"1\" class=\"dataframe\">\n",
       "  <thead>\n",
       "    <tr style=\"text-align: right;\">\n",
       "      <th></th>\n",
       "      <th>ID</th>\n",
       "      <th>backers</th>\n",
       "      <th>usd_pledged_real</th>\n",
       "      <th>usd_goal_real</th>\n",
       "      <th>year_start</th>\n",
       "      <th>month_start</th>\n",
       "      <th>project_time</th>\n",
       "      <th>state_bool</th>\n",
       "    </tr>\n",
       "  </thead>\n",
       "  <tbody>\n",
       "    <tr>\n",
       "      <th>count</th>\n",
       "      <td>331,672.00</td>\n",
       "      <td>331,672.00</td>\n",
       "      <td>331,672.00</td>\n",
       "      <td>331,672.00</td>\n",
       "      <td>331,672.00</td>\n",
       "      <td>331,672.00</td>\n",
       "      <td>331,672.00</td>\n",
       "      <td>331,672.00</td>\n",
       "    </tr>\n",
       "    <tr>\n",
       "      <th>mean</th>\n",
       "      <td>1,074,270,473.55</td>\n",
       "      <td>116.38</td>\n",
       "      <td>9,943.55</td>\n",
       "      <td>41,509.66</td>\n",
       "      <td>2,014.18</td>\n",
       "      <td>6.42</td>\n",
       "      <td>32.95</td>\n",
       "      <td>0.40</td>\n",
       "    </tr>\n",
       "    <tr>\n",
       "      <th>std</th>\n",
       "      <td>619,193,075.11</td>\n",
       "      <td>965.43</td>\n",
       "      <td>96,733.37</td>\n",
       "      <td>1,108,934.64</td>\n",
       "      <td>1.93</td>\n",
       "      <td>3.31</td>\n",
       "      <td>12.71</td>\n",
       "      <td>0.49</td>\n",
       "    </tr>\n",
       "    <tr>\n",
       "      <th>min</th>\n",
       "      <td>5,971.00</td>\n",
       "      <td>0.00</td>\n",
       "      <td>0.00</td>\n",
       "      <td>0.01</td>\n",
       "      <td>2,009.00</td>\n",
       "      <td>1.00</td>\n",
       "      <td>0.00</td>\n",
       "      <td>0.00</td>\n",
       "    </tr>\n",
       "    <tr>\n",
       "      <th>25%</th>\n",
       "      <td>537,171,096.50</td>\n",
       "      <td>2.00</td>\n",
       "      <td>50.00</td>\n",
       "      <td>2,000.00</td>\n",
       "      <td>2,013.00</td>\n",
       "      <td>4.00</td>\n",
       "      <td>29.00</td>\n",
       "      <td>0.00</td>\n",
       "    </tr>\n",
       "    <tr>\n",
       "      <th>50%</th>\n",
       "      <td>1,074,574,892.50</td>\n",
       "      <td>15.00</td>\n",
       "      <td>788.00</td>\n",
       "      <td>5,000.00</td>\n",
       "      <td>2,014.00</td>\n",
       "      <td>6.00</td>\n",
       "      <td>29.00</td>\n",
       "      <td>0.00</td>\n",
       "    </tr>\n",
       "    <tr>\n",
       "      <th>75%</th>\n",
       "      <td>1,609,843,457.75</td>\n",
       "      <td>63.00</td>\n",
       "      <td>4,608.00</td>\n",
       "      <td>15,000.00</td>\n",
       "      <td>2,016.00</td>\n",
       "      <td>9.00</td>\n",
       "      <td>35.00</td>\n",
       "      <td>1.00</td>\n",
       "    </tr>\n",
       "    <tr>\n",
       "      <th>max</th>\n",
       "      <td>2,147,476,221.00</td>\n",
       "      <td>219,382.00</td>\n",
       "      <td>20,338,986.27</td>\n",
       "      <td>166,361,390.71</td>\n",
       "      <td>2,017.00</td>\n",
       "      <td>12.00</td>\n",
       "      <td>91.00</td>\n",
       "      <td>1.00</td>\n",
       "    </tr>\n",
       "  </tbody>\n",
       "</table>\n",
       "</div>"
      ],
      "text/plain": [
       "                        ID              backers     usd_pledged_real  \\\n",
       "count           331,672.00           331,672.00           331,672.00   \n",
       "mean      1,074,270,473.55               116.38             9,943.55   \n",
       "std         619,193,075.11               965.43            96,733.37   \n",
       "min               5,971.00                 0.00                 0.00   \n",
       "25%         537,171,096.50                 2.00                50.00   \n",
       "50%       1,074,574,892.50                15.00               788.00   \n",
       "75%       1,609,843,457.75                63.00             4,608.00   \n",
       "max       2,147,476,221.00           219,382.00        20,338,986.27   \n",
       "\n",
       "             usd_goal_real           year_start          month_start  \\\n",
       "count           331,672.00           331,672.00           331,672.00   \n",
       "mean             41,509.66             2,014.18                 6.42   \n",
       "std           1,108,934.64                 1.93                 3.31   \n",
       "min                   0.01             2,009.00                 1.00   \n",
       "25%               2,000.00             2,013.00                 4.00   \n",
       "50%               5,000.00             2,014.00                 6.00   \n",
       "75%              15,000.00             2,016.00                 9.00   \n",
       "max         166,361,390.71             2,017.00                12.00   \n",
       "\n",
       "              project_time           state_bool  \n",
       "count           331,672.00           331,672.00  \n",
       "mean                 32.95                 0.40  \n",
       "std                  12.71                 0.49  \n",
       "min                   0.00                 0.00  \n",
       "25%                  29.00                 0.00  \n",
       "50%                  29.00                 0.00  \n",
       "75%                  35.00                 1.00  \n",
       "max                  91.00                 1.00  "
      ]
     },
     "execution_count": 218,
     "metadata": {},
     "output_type": "execute_result"
    }
   ],
   "source": [
    "#detalles de datos filtrados y con nuevos valores generados\n",
    "data_prep.describe()"
   ]
  },
  {
   "cell_type": "code",
   "execution_count": 215,
   "metadata": {
    "scrolled": true
   },
   "outputs": [
    {
     "data": {
      "text/html": [
       "<div>\n",
       "<style scoped>\n",
       "    .dataframe tbody tr th:only-of-type {\n",
       "        vertical-align: middle;\n",
       "    }\n",
       "\n",
       "    .dataframe tbody tr th {\n",
       "        vertical-align: top;\n",
       "    }\n",
       "\n",
       "    .dataframe thead th {\n",
       "        text-align: right;\n",
       "    }\n",
       "</style>\n",
       "<table border=\"1\" class=\"dataframe\">\n",
       "  <thead>\n",
       "    <tr style=\"text-align: right;\">\n",
       "      <th></th>\n",
       "      <th>ID</th>\n",
       "      <th>backers</th>\n",
       "      <th>usd_pledged_real</th>\n",
       "      <th>usd_goal_real</th>\n",
       "      <th>year_start</th>\n",
       "      <th>month_start</th>\n",
       "      <th>project_time</th>\n",
       "      <th>state_bool</th>\n",
       "    </tr>\n",
       "  </thead>\n",
       "  <tbody>\n",
       "    <tr>\n",
       "      <th>count</th>\n",
       "      <td>133,956.00</td>\n",
       "      <td>133,956.00</td>\n",
       "      <td>133,956.00</td>\n",
       "      <td>133,956.00</td>\n",
       "      <td>133,956.00</td>\n",
       "      <td>133,956.00</td>\n",
       "      <td>133,956.00</td>\n",
       "      <td>133,956.00</td>\n",
       "    </tr>\n",
       "    <tr>\n",
       "      <th>mean</th>\n",
       "      <td>1,073,727,308.41</td>\n",
       "      <td>263.92</td>\n",
       "      <td>22,670.80</td>\n",
       "      <td>9,532.85</td>\n",
       "      <td>2,014.01</td>\n",
       "      <td>6.37</td>\n",
       "      <td>31.16</td>\n",
       "      <td>1.00</td>\n",
       "    </tr>\n",
       "    <tr>\n",
       "      <th>std</th>\n",
       "      <td>619,151,364.61</td>\n",
       "      <td>1,504.58</td>\n",
       "      <td>151,090.32</td>\n",
       "      <td>27,961.44</td>\n",
       "      <td>2.03</td>\n",
       "      <td>3.31</td>\n",
       "      <td>11.77</td>\n",
       "      <td>0.00</td>\n",
       "    </tr>\n",
       "    <tr>\n",
       "      <th>min</th>\n",
       "      <td>21,109.00</td>\n",
       "      <td>0.00</td>\n",
       "      <td>0.79</td>\n",
       "      <td>0.01</td>\n",
       "      <td>2,009.00</td>\n",
       "      <td>1.00</td>\n",
       "      <td>0.00</td>\n",
       "      <td>1.00</td>\n",
       "    </tr>\n",
       "    <tr>\n",
       "      <th>25%</th>\n",
       "      <td>535,444,349.00</td>\n",
       "      <td>33.00</td>\n",
       "      <td>2,000.00</td>\n",
       "      <td>1,301.91</td>\n",
       "      <td>2,012.00</td>\n",
       "      <td>4.00</td>\n",
       "      <td>29.00</td>\n",
       "      <td>1.00</td>\n",
       "    </tr>\n",
       "    <tr>\n",
       "      <th>50%</th>\n",
       "      <td>1,076,595,218.50</td>\n",
       "      <td>71.00</td>\n",
       "      <td>5,107.25</td>\n",
       "      <td>3,837.74</td>\n",
       "      <td>2,014.00</td>\n",
       "      <td>6.00</td>\n",
       "      <td>29.00</td>\n",
       "      <td>1.00</td>\n",
       "    </tr>\n",
       "    <tr>\n",
       "      <th>75%</th>\n",
       "      <td>1,608,161,317.00</td>\n",
       "      <td>167.00</td>\n",
       "      <td>13,232.08</td>\n",
       "      <td>10,000.00</td>\n",
       "      <td>2,016.00</td>\n",
       "      <td>9.00</td>\n",
       "      <td>33.00</td>\n",
       "      <td>1.00</td>\n",
       "    </tr>\n",
       "    <tr>\n",
       "      <th>max</th>\n",
       "      <td>2,147,476,221.00</td>\n",
       "      <td>219,382.00</td>\n",
       "      <td>20,338,986.27</td>\n",
       "      <td>2,015,608.88</td>\n",
       "      <td>2,017.00</td>\n",
       "      <td>12.00</td>\n",
       "      <td>91.00</td>\n",
       "      <td>1.00</td>\n",
       "    </tr>\n",
       "  </tbody>\n",
       "</table>\n",
       "</div>"
      ],
      "text/plain": [
       "                        ID              backers     usd_pledged_real  \\\n",
       "count           133,956.00           133,956.00           133,956.00   \n",
       "mean      1,073,727,308.41               263.92            22,670.80   \n",
       "std         619,151,364.61             1,504.58           151,090.32   \n",
       "min              21,109.00                 0.00                 0.79   \n",
       "25%         535,444,349.00                33.00             2,000.00   \n",
       "50%       1,076,595,218.50                71.00             5,107.25   \n",
       "75%       1,608,161,317.00               167.00            13,232.08   \n",
       "max       2,147,476,221.00           219,382.00        20,338,986.27   \n",
       "\n",
       "             usd_goal_real           year_start          month_start  \\\n",
       "count           133,956.00           133,956.00           133,956.00   \n",
       "mean              9,532.85             2,014.01                 6.37   \n",
       "std              27,961.44                 2.03                 3.31   \n",
       "min                   0.01             2,009.00                 1.00   \n",
       "25%               1,301.91             2,012.00                 4.00   \n",
       "50%               3,837.74             2,014.00                 6.00   \n",
       "75%              10,000.00             2,016.00                 9.00   \n",
       "max           2,015,608.88             2,017.00                12.00   \n",
       "\n",
       "              project_time           state_bool  \n",
       "count           133,956.00           133,956.00  \n",
       "mean                 31.16                 1.00  \n",
       "std                  11.77                 0.00  \n",
       "min                   0.00                 1.00  \n",
       "25%                  29.00                 1.00  \n",
       "50%                  29.00                 1.00  \n",
       "75%                  33.00                 1.00  \n",
       "max                  91.00                 1.00  "
      ]
     },
     "execution_count": 215,
     "metadata": {},
     "output_type": "execute_result"
    }
   ],
   "source": [
    "#detalles de proyectos finalizados con exito\n",
    "data_prep[data_prep.state_bool == 1].describe()"
   ]
  },
  {
   "cell_type": "markdown",
   "metadata": {},
   "source": [
    "###### Notas de proyectos finalizados con exito:\n",
    "1. *en promedio tienden a recaudar el doble de lo solicitado*\n",
    "2. *el goal de recoleccion anda cercano al promedio de dinero aportado en general para un proyecto (9,532.85 vs 9,943.55)*\n",
    "3. *la duracion promedio de un proyecto es de un mes*"
   ]
  },
  {
   "cell_type": "code",
   "execution_count": 217,
   "metadata": {},
   "outputs": [
    {
     "data": {
      "text/html": [
       "<div>\n",
       "<style scoped>\n",
       "    .dataframe tbody tr th:only-of-type {\n",
       "        vertical-align: middle;\n",
       "    }\n",
       "\n",
       "    .dataframe tbody tr th {\n",
       "        vertical-align: top;\n",
       "    }\n",
       "\n",
       "    .dataframe thead th {\n",
       "        text-align: right;\n",
       "    }\n",
       "</style>\n",
       "<table border=\"1\" class=\"dataframe\">\n",
       "  <thead>\n",
       "    <tr style=\"text-align: right;\">\n",
       "      <th></th>\n",
       "      <th>ID</th>\n",
       "      <th>backers</th>\n",
       "      <th>usd_pledged_real</th>\n",
       "      <th>usd_goal_real</th>\n",
       "      <th>year_start</th>\n",
       "      <th>month_start</th>\n",
       "      <th>project_time</th>\n",
       "      <th>state_bool</th>\n",
       "    </tr>\n",
       "  </thead>\n",
       "  <tbody>\n",
       "    <tr>\n",
       "      <th>count</th>\n",
       "      <td>197,716.00</td>\n",
       "      <td>197,716.00</td>\n",
       "      <td>197,716.00</td>\n",
       "      <td>197,716.00</td>\n",
       "      <td>197,716.00</td>\n",
       "      <td>197,716.00</td>\n",
       "      <td>197,716.00</td>\n",
       "      <td>197,716.00</td>\n",
       "    </tr>\n",
       "    <tr>\n",
       "      <th>mean</th>\n",
       "      <td>1,074,638,477.30</td>\n",
       "      <td>16.42</td>\n",
       "      <td>1,320.62</td>\n",
       "      <td>63,174.50</td>\n",
       "      <td>2,014.30</td>\n",
       "      <td>6.44</td>\n",
       "      <td>34.17</td>\n",
       "      <td>0.00</td>\n",
       "    </tr>\n",
       "    <tr>\n",
       "      <th>std</th>\n",
       "      <td>619,222,628.07</td>\n",
       "      <td>71.22</td>\n",
       "      <td>6,820.30</td>\n",
       "      <td>1,435,693.48</td>\n",
       "      <td>1.85</td>\n",
       "      <td>3.31</td>\n",
       "      <td>13.18</td>\n",
       "      <td>0.00</td>\n",
       "    </tr>\n",
       "    <tr>\n",
       "      <th>min</th>\n",
       "      <td>5,971.00</td>\n",
       "      <td>0.00</td>\n",
       "      <td>0.00</td>\n",
       "      <td>0.15</td>\n",
       "      <td>2,009.00</td>\n",
       "      <td>1.00</td>\n",
       "      <td>0.00</td>\n",
       "      <td>0.00</td>\n",
       "    </tr>\n",
       "    <tr>\n",
       "      <th>25%</th>\n",
       "      <td>538,556,160.50</td>\n",
       "      <td>1.00</td>\n",
       "      <td>2.64</td>\n",
       "      <td>2,500.00</td>\n",
       "      <td>2,013.00</td>\n",
       "      <td>4.00</td>\n",
       "      <td>29.00</td>\n",
       "      <td>0.00</td>\n",
       "    </tr>\n",
       "    <tr>\n",
       "      <th>50%</th>\n",
       "      <td>1,073,268,866.00</td>\n",
       "      <td>3.00</td>\n",
       "      <td>100.00</td>\n",
       "      <td>7,500.00</td>\n",
       "      <td>2,015.00</td>\n",
       "      <td>7.00</td>\n",
       "      <td>29.00</td>\n",
       "      <td>0.00</td>\n",
       "    </tr>\n",
       "    <tr>\n",
       "      <th>75%</th>\n",
       "      <td>1,611,043,503.50</td>\n",
       "      <td>12.00</td>\n",
       "      <td>663.00</td>\n",
       "      <td>20,000.00</td>\n",
       "      <td>2,016.00</td>\n",
       "      <td>9.00</td>\n",
       "      <td>39.00</td>\n",
       "      <td>0.00</td>\n",
       "    </tr>\n",
       "    <tr>\n",
       "      <th>max</th>\n",
       "      <td>2,147,466,649.00</td>\n",
       "      <td>6,550.00</td>\n",
       "      <td>757,352.94</td>\n",
       "      <td>166,361,390.71</td>\n",
       "      <td>2,017.00</td>\n",
       "      <td>12.00</td>\n",
       "      <td>91.00</td>\n",
       "      <td>0.00</td>\n",
       "    </tr>\n",
       "  </tbody>\n",
       "</table>\n",
       "</div>"
      ],
      "text/plain": [
       "                        ID              backers     usd_pledged_real  \\\n",
       "count           197,716.00           197,716.00           197,716.00   \n",
       "mean      1,074,638,477.30                16.42             1,320.62   \n",
       "std         619,222,628.07                71.22             6,820.30   \n",
       "min               5,971.00                 0.00                 0.00   \n",
       "25%         538,556,160.50                 1.00                 2.64   \n",
       "50%       1,073,268,866.00                 3.00               100.00   \n",
       "75%       1,611,043,503.50                12.00               663.00   \n",
       "max       2,147,466,649.00             6,550.00           757,352.94   \n",
       "\n",
       "             usd_goal_real           year_start          month_start  \\\n",
       "count           197,716.00           197,716.00           197,716.00   \n",
       "mean             63,174.50             2,014.30                 6.44   \n",
       "std           1,435,693.48                 1.85                 3.31   \n",
       "min                   0.15             2,009.00                 1.00   \n",
       "25%               2,500.00             2,013.00                 4.00   \n",
       "50%               7,500.00             2,015.00                 7.00   \n",
       "75%              20,000.00             2,016.00                 9.00   \n",
       "max         166,361,390.71             2,017.00                12.00   \n",
       "\n",
       "              project_time           state_bool  \n",
       "count           197,716.00           197,716.00  \n",
       "mean                 34.17                 0.00  \n",
       "std                  13.18                 0.00  \n",
       "min                   0.00                 0.00  \n",
       "25%                  29.00                 0.00  \n",
       "50%                  29.00                 0.00  \n",
       "75%                  39.00                 0.00  \n",
       "max                  91.00                 0.00  "
      ]
     },
     "execution_count": 217,
     "metadata": {},
     "output_type": "execute_result"
    }
   ],
   "source": [
    "#detalles de proyectos fallidos\n",
    "data_prep[data_prep.state_bool == 0].describe()"
   ]
  },
  {
   "cell_type": "markdown",
   "metadata": {},
   "source": [
    "###### Notas de proyectos fallidos:\n",
    "1. *en promedio tienden a recaudar un 2% del dinero solicitado*\n",
    "2. *el objetivo de recoleccion tiende a ser 6.6 veces mas grande que los proyectos que finalizan satisfactoriamente*\n",
    "3. *la duracion promedio de un proyecto es un poco mas prolongada que los proyectos ganadores (3 dias)*"
   ]
  },
  {
   "cell_type": "code",
   "execution_count": 236,
   "metadata": {},
   "outputs": [
    {
     "data": {
      "text/plain": [
       "<matplotlib.axes._subplots.AxesSubplot at 0x14b654b00>"
      ]
     },
     "execution_count": 236,
     "metadata": {},
     "output_type": "execute_result"
    },
    {
     "data": {
      "image/png": "[encoded data removed]",
      "text/plain": [
       "<Figure size 432x288 with 1 Axes>"
      ]
     },
     "metadata": {
      "needs_background": "light"
     },
     "output_type": "display_data"
    }
   ],
   "source": [
    "#preparar datos para visualizacion (usd_pledged_real, usd_goal_real promedios fallidos y satisfactorios)\n",
    "data_group = data_prep.groupby(\"state\")[\"usd_pledged_real\"].mean()\n",
    "\n",
    "data_group = pd.DataFrame([data_group])\n",
    "data_group = data_group.T # transform\n",
    "data_group.columns = ['usd_pledged_real']\n",
    "\n",
    "data_group['usd_goal_real'] = data_prep.groupby(\"state\")[\"usd_goal_real\"].mean() #columnas con usd_goal_real\n",
    "\n",
    "data_group.plot.bar(rot=0)"
   ]
  },
  {
   "cell_type": "markdown",
   "metadata": {},
   "source": [
    "#### Evaluacion de mes de publicacion y ratio de exito:"
   ]
  },
  {
   "cell_type": "code",
   "execution_count": 295,
   "metadata": {},
   "outputs": [
    {
     "data": {
      "text/plain": [
       "month_start  state     \n",
       "1            failed        14932\n",
       "             successful     9480\n",
       "2            failed        15274\n",
       "             successful    11003\n",
       "3            failed        17249\n",
       "             successful    12851\n",
       "4            failed        16484\n",
       "             successful    12093\n",
       "5            failed        17113\n",
       "             successful    12062\n",
       "6            failed        17200\n",
       "             successful    11773\n",
       "7            failed        20326\n",
       "             successful    11681\n",
       "8            failed        17585\n",
       "             successful    10820\n",
       "9            failed        16175\n",
       "             successful    11231\n",
       "10           failed        17025\n",
       "             successful    12350\n",
       "11           failed        16733\n",
       "             successful    11770\n",
       "12           failed        11620\n",
       "             successful     6842\n",
       "Name: state_bool, dtype: int64"
      ]
     },
     "execution_count": 295,
     "metadata": {},
     "output_type": "execute_result"
    }
   ],
   "source": [
    "data_prep.groupby([\"month_start\", 'state'])[\"state_bool\"].count()"
   ]
  },
  {
   "cell_type": "code",
   "execution_count": 296,
   "metadata": {
    "scrolled": false
   },
   "outputs": [
    {
     "data": {
      "text/plain": [
       "<matplotlib.axes._subplots.AxesSubplot at 0x14889f9b0>"
      ]
     },
     "execution_count": 296,
     "metadata": {},
     "output_type": "execute_result"
    },
    {
     "data": {
      "image/png": "[encoded data removed]",
      "text/plain": [
       "<Figure size 432x288 with 1 Axes>"
      ]
     },
     "metadata": {
      "needs_background": "light"
     },
     "output_type": "display_data"
    }
   ],
   "source": [
    "#visualizacion de totales failed vs sucess por mes\n",
    "data_group = data_prep[data_prep.state == 'failed'].groupby(\"month_start\")[\"state_bool\"].count()\n",
    "\n",
    "data_group = pd.DataFrame([data_group])\n",
    "data_group = data_group.T # transform\n",
    "data_group.columns = ['failed']\n",
    "\n",
    "data_group['successful'] = data_prep[data_prep.state == 'successful'].groupby(\"month_start\")[\"state_bool\"].count()\n",
    "data_group.plot.bar(stacked=True)"
   ]
  },
  {
   "cell_type": "code",
   "execution_count": 298,
   "metadata": {},
   "outputs": [],
   "source": [
    "#generacion de data porcentual por mes\n",
    "data_group['total'] = data_group.failed + data_group.successful\n",
    "data_group['perc_failed'] = data_group.failed * 100 / data_group.total\n",
    "data_group['perc_successful'] = data_group.successful * 100 / data_group.total"
   ]
  },
  {
   "cell_type": "code",
   "execution_count": 299,
   "metadata": {},
   "outputs": [],
   "source": [
    "#remover columnas no utiles\n",
    "data_group = data_group.drop([\"failed\"], axis = 1)\n",
    "data_group = data_group.drop([\"successful\"], axis = 1)\n",
    "data_group = data_group.drop([\"total\"], axis = 1)"
   ]
  },
  {
   "cell_type": "code",
   "execution_count": 300,
   "metadata": {
    "scrolled": true
   },
   "outputs": [
    {
     "name": "stdout",
     "output_type": "stream",
     "text": [
      "                     perc_failed      perc_successful\n",
      "month_start                                          \n",
      "1                          61.17                38.83\n",
      "2                          58.13                41.87\n",
      "3                          57.31                42.69\n",
      "4                          57.68                42.32\n",
      "5                          58.66                41.34\n",
      "6                          59.37                40.63\n",
      "7                          63.50                36.50\n",
      "8                          61.91                38.09\n",
      "9                          59.02                40.98\n",
      "10                         57.96                42.04\n",
      "11                         58.71                41.29\n",
      "12                         62.94                37.06\n"
     ]
    }
   ],
   "source": [
    "print(data_group)"
   ]
  },
  {
   "cell_type": "code",
   "execution_count": 301,
   "metadata": {
    "scrolled": true
   },
   "outputs": [
    {
     "data": {
      "text/plain": [
       "<matplotlib.axes._subplots.AxesSubplot at 0x12a670518>"
      ]
     },
     "execution_count": 301,
     "metadata": {},
     "output_type": "execute_result"
    },
    {
     "data": {
      "image/png": "[encoded data removed]",
      "text/plain": [
       "<Figure size 432x288 with 1 Axes>"
      ]
     },
     "metadata": {
      "needs_background": "light"
     },
     "output_type": "display_data"
    }
   ],
   "source": [
    "data_group.plot.line()"
   ]
  },
  {
   "cell_type": "markdown",
   "metadata": {},
   "source": [
    "###### Notas de proyectos por mes:\n",
    "1. *Julio, Diciembre, Agosto y Enero respectivamente son los meses con menos posibilidades de exito (de 63.5% a 61.1%)*\n",
    "2. *Contradictoriamente Julio tiende a ser el mes con mas proyectos publicados*\n",
    "3. *Los mejores meses para publicar un proyecto son Marzo, Abril, Octubre y Febrero respectivamente*\n",
    "4. *Hay 6% mas posibilidades de exito si se publica en Marzo con respecto a publicar en Julio*"
   ]
  },
  {
   "cell_type": "code",
   "execution_count": null,
   "metadata": {},
   "outputs": [],
   "source": []
  }
 ],
 "metadata": {
  "kernelspec": {
   "display_name": "Python 3",
   "language": "python",
   "name": "python3"
  },
  "language_info": {
   "codemirror_mode": {
    "name": "ipython",
    "version": 3
   },
   "file_extension": ".py",
   "mimetype": "text/x-python",
   "name": "python",
   "nbconvert_exporter": "python",
   "pygments_lexer": "ipython3",
   "version": "3.7.1"
  }
 },
 "nbformat": 4,
 "nbformat_minor": 2
}
