{
 "cells": [
  {
   "cell_type": "code",
   "execution_count": 49,
   "metadata": {},
   "outputs": [],
   "source": [
    "%matplotlib inline\n",
    "import numpy as np\n",
    "import pandas as pd\n",
    "import matplotlib.pyplot as plt\n",
    "\n",
    "pd.options.display.float_format = '{:20,.2f}'.format #para arreglar la notacion cientifica"
   ]
  },
  {
   "cell_type": "code",
   "execution_count": 28,
   "metadata": {},
   "outputs": [
    {
     "data": {
      "text/html": [
       "<style>.container { width:100% !important; }</style>"
      ],
      "text/plain": [
       "<IPython.core.display.HTML object>"
      ]
     },
     "metadata": {},
     "output_type": "display_data"
    }
   ],
   "source": [
    "#Usar el area del monitor widescreen\n",
    "from IPython.core.display import display, HTML\n",
    "display(HTML(\"<style>.container { width:100% !important; }</style>\"))"
   ]
  },
  {
   "cell_type": "markdown",
   "metadata": {},
   "source": [
    "# Kickstarter Projects"
   ]
  },
  {
   "cell_type": "markdown",
   "metadata": {},
   "source": [
    "---\n",
    "###### Sobre el Proyecto:\n",
    "\n",
    "Ingestar, explorar, preparar, evaluar y visualizar detalles sobre el exito y fracaso de los proyectos propuestos en **Kickstarter** basado en el set de datos que se encuentra en: https://www.kaggle.com/kemical/kickstarter-projects"
   ]
  },
  {
   "cell_type": "markdown",
   "metadata": {},
   "source": [
    "###### Que es Kickstarter?\n",
    "\n",
    "> Kickstarter es una plataforma que provee a artistas, músicos, cineastas, diseñadores y otros creadores con los recursos y el apoyo necesarios para llevar sus ideas a la realidad. "
   ]
  },
  {
   "cell_type": "markdown",
   "metadata": {},
   "source": [
    "###### Informacion general de los Proyectos suminstrada por Kickstarter.com:\n",
    "    Indice de exito actual:                            36,92%\n",
    "    Contribuciones a proyectos financiados con exito: $3,78 B\n",
    "    Proyectos activos:                                 3.857"
   ]
  },
  {
   "cell_type": "markdown",
   "metadata": {},
   "source": [
    "## 1. Ingesta y exploracion:\n",
    "---\n",
    "En esta parte nos dedicaremos a ingestar los datos y luego obtner detalles de los mismos que nos permitan entender los datos y como estan relacionados entre si, ademas de buscar puntos de mejora y posibles ajustes a realizar antes de la evaluacion."
   ]
  },
  {
   "cell_type": "code",
   "execution_count": 54,
   "metadata": {},
   "outputs": [],
   "source": [
    "#Carga de archivos en diferentes dataframes\n",
    "data = pd.read_csv('data/ks-projects-201801.csv', low_memory=False)"
   ]
  },
  {
   "cell_type": "markdown",
   "metadata": {},
   "source": [
    "##### Prevista de primeras lineas:"
   ]
  },
  {
   "cell_type": "code",
   "execution_count": 55,
   "metadata": {
    "scrolled": true
   },
   "outputs": [
    {
     "data": {
      "text/html": [
       "<div>\n",
       "<style scoped>\n",
       "    .dataframe tbody tr th:only-of-type {\n",
       "        vertical-align: middle;\n",
       "    }\n",
       "\n",
       "    .dataframe tbody tr th {\n",
       "        vertical-align: top;\n",
       "    }\n",
       "\n",
       "    .dataframe thead th {\n",
       "        text-align: right;\n",
       "    }\n",
       "</style>\n",
       "<table border=\"1\" class=\"dataframe\">\n",
       "  <thead>\n",
       "    <tr style=\"text-align: right;\">\n",
       "      <th></th>\n",
       "      <th>ID</th>\n",
       "      <th>name</th>\n",
       "      <th>category</th>\n",
       "      <th>main_category</th>\n",
       "      <th>currency</th>\n",
       "      <th>deadline</th>\n",
       "      <th>goal</th>\n",
       "      <th>launched</th>\n",
       "      <th>pledged</th>\n",
       "      <th>state</th>\n",
       "      <th>backers</th>\n",
       "      <th>country</th>\n",
       "      <th>usd pledged</th>\n",
       "      <th>usd_pledged_real</th>\n",
       "      <th>usd_goal_real</th>\n",
       "    </tr>\n",
       "  </thead>\n",
       "  <tbody>\n",
       "    <tr>\n",
       "      <th>0</th>\n",
       "      <td>1000002330</td>\n",
       "      <td>The Songs of Adelaide &amp; Abullah</td>\n",
       "      <td>Poetry</td>\n",
       "      <td>Publishing</td>\n",
       "      <td>GBP</td>\n",
       "      <td>2015-10-09</td>\n",
       "      <td>1,000.00</td>\n",
       "      <td>2015-08-11 12:12:28</td>\n",
       "      <td>0.00</td>\n",
       "      <td>failed</td>\n",
       "      <td>0</td>\n",
       "      <td>GB</td>\n",
       "      <td>0.00</td>\n",
       "      <td>0.00</td>\n",
       "      <td>1,533.95</td>\n",
       "    </tr>\n",
       "    <tr>\n",
       "      <th>1</th>\n",
       "      <td>1000003930</td>\n",
       "      <td>Greeting From Earth: ZGAC Arts Capsule For ET</td>\n",
       "      <td>Narrative Film</td>\n",
       "      <td>Film &amp; Video</td>\n",
       "      <td>USD</td>\n",
       "      <td>2017-11-01</td>\n",
       "      <td>30,000.00</td>\n",
       "      <td>2017-09-02 04:43:57</td>\n",
       "      <td>2,421.00</td>\n",
       "      <td>failed</td>\n",
       "      <td>15</td>\n",
       "      <td>US</td>\n",
       "      <td>100.00</td>\n",
       "      <td>2,421.00</td>\n",
       "      <td>30,000.00</td>\n",
       "    </tr>\n",
       "    <tr>\n",
       "      <th>2</th>\n",
       "      <td>1000004038</td>\n",
       "      <td>Where is Hank?</td>\n",
       "      <td>Narrative Film</td>\n",
       "      <td>Film &amp; Video</td>\n",
       "      <td>USD</td>\n",
       "      <td>2013-02-26</td>\n",
       "      <td>45,000.00</td>\n",
       "      <td>2013-01-12 00:20:50</td>\n",
       "      <td>220.00</td>\n",
       "      <td>failed</td>\n",
       "      <td>3</td>\n",
       "      <td>US</td>\n",
       "      <td>220.00</td>\n",
       "      <td>220.00</td>\n",
       "      <td>45,000.00</td>\n",
       "    </tr>\n",
       "    <tr>\n",
       "      <th>3</th>\n",
       "      <td>1000007540</td>\n",
       "      <td>ToshiCapital Rekordz Needs Help to Complete Album</td>\n",
       "      <td>Music</td>\n",
       "      <td>Music</td>\n",
       "      <td>USD</td>\n",
       "      <td>2012-04-16</td>\n",
       "      <td>5,000.00</td>\n",
       "      <td>2012-03-17 03:24:11</td>\n",
       "      <td>1.00</td>\n",
       "      <td>failed</td>\n",
       "      <td>1</td>\n",
       "      <td>US</td>\n",
       "      <td>1.00</td>\n",
       "      <td>1.00</td>\n",
       "      <td>5,000.00</td>\n",
       "    </tr>\n",
       "    <tr>\n",
       "      <th>4</th>\n",
       "      <td>1000011046</td>\n",
       "      <td>Community Film Project: The Art of Neighborhoo...</td>\n",
       "      <td>Film &amp; Video</td>\n",
       "      <td>Film &amp; Video</td>\n",
       "      <td>USD</td>\n",
       "      <td>2015-08-29</td>\n",
       "      <td>19,500.00</td>\n",
       "      <td>2015-07-04 08:35:03</td>\n",
       "      <td>1,283.00</td>\n",
       "      <td>canceled</td>\n",
       "      <td>14</td>\n",
       "      <td>US</td>\n",
       "      <td>1,283.00</td>\n",
       "      <td>1,283.00</td>\n",
       "      <td>19,500.00</td>\n",
       "    </tr>\n",
       "  </tbody>\n",
       "</table>\n",
       "</div>"
      ],
      "text/plain": [
       "           ID                                               name  \\\n",
       "0  1000002330                    The Songs of Adelaide & Abullah   \n",
       "1  1000003930      Greeting From Earth: ZGAC Arts Capsule For ET   \n",
       "2  1000004038                                     Where is Hank?   \n",
       "3  1000007540  ToshiCapital Rekordz Needs Help to Complete Album   \n",
       "4  1000011046  Community Film Project: The Art of Neighborhoo...   \n",
       "\n",
       "         category main_category currency    deadline                 goal  \\\n",
       "0          Poetry    Publishing      GBP  2015-10-09             1,000.00   \n",
       "1  Narrative Film  Film & Video      USD  2017-11-01            30,000.00   \n",
       "2  Narrative Film  Film & Video      USD  2013-02-26            45,000.00   \n",
       "3           Music         Music      USD  2012-04-16             5,000.00   \n",
       "4    Film & Video  Film & Video      USD  2015-08-29            19,500.00   \n",
       "\n",
       "              launched              pledged     state  backers country  \\\n",
       "0  2015-08-11 12:12:28                 0.00    failed        0      GB   \n",
       "1  2017-09-02 04:43:57             2,421.00    failed       15      US   \n",
       "2  2013-01-12 00:20:50               220.00    failed        3      US   \n",
       "3  2012-03-17 03:24:11                 1.00    failed        1      US   \n",
       "4  2015-07-04 08:35:03             1,283.00  canceled       14      US   \n",
       "\n",
       "           usd pledged     usd_pledged_real        usd_goal_real  \n",
       "0                 0.00                 0.00             1,533.95  \n",
       "1               100.00             2,421.00            30,000.00  \n",
       "2               220.00               220.00            45,000.00  \n",
       "3                 1.00                 1.00             5,000.00  \n",
       "4             1,283.00             1,283.00            19,500.00  "
      ]
     },
     "execution_count": 55,
     "metadata": {},
     "output_type": "execute_result"
    }
   ],
   "source": [
    "data.head()"
   ]
  },
  {
   "cell_type": "code",
   "execution_count": 58,
   "metadata": {
    "scrolled": false
   },
   "outputs": [
    {
     "name": "stdout",
     "output_type": "stream",
     "text": [
      "<class 'pandas.core.frame.DataFrame'>\n",
      "RangeIndex: 378661 entries, 0 to 378660\n",
      "Data columns (total 15 columns):\n",
      "ID                  378661 non-null int64\n",
      "name                378657 non-null object\n",
      "category            378661 non-null object\n",
      "main_category       378661 non-null object\n",
      "currency            378661 non-null object\n",
      "deadline            378661 non-null object\n",
      "goal                378661 non-null float64\n",
      "launched            378661 non-null object\n",
      "pledged             378661 non-null float64\n",
      "state               378661 non-null object\n",
      "backers             378661 non-null int64\n",
      "country             378661 non-null object\n",
      "usd pledged         374864 non-null float64\n",
      "usd_pledged_real    378661 non-null float64\n",
      "usd_goal_real       378661 non-null float64\n",
      "dtypes: float64(5), int64(2), object(8)\n",
      "memory usage: 43.3+ MB\n"
     ]
    }
   ],
   "source": [
    "#Detalles del dataset\n",
    "data.info()"
   ]
  },
  {
   "cell_type": "markdown",
   "metadata": {},
   "source": [
    "Notas:\n",
    "1. *La cantidad de dinero aportado (usd pledged) no se encuentra 100% poblada (3.797 valores nulos)*\n",
    "2. *El set de datos contiene las columnas usd_pledged_real y usd_goal_real que fueron obtenidas por una herramienta externa que realizo una conversion de moneda basado en la fecha final del proyecto y que se encuentran 100% pobladas*"
   ]
  },
  {
   "cell_type": "code",
   "execution_count": 57,
   "metadata": {},
   "outputs": [
    {
     "data": {
      "text/html": [
       "<div>\n",
       "<style scoped>\n",
       "    .dataframe tbody tr th:only-of-type {\n",
       "        vertical-align: middle;\n",
       "    }\n",
       "\n",
       "    .dataframe tbody tr th {\n",
       "        vertical-align: top;\n",
       "    }\n",
       "\n",
       "    .dataframe thead th {\n",
       "        text-align: right;\n",
       "    }\n",
       "</style>\n",
       "<table border=\"1\" class=\"dataframe\">\n",
       "  <thead>\n",
       "    <tr style=\"text-align: right;\">\n",
       "      <th></th>\n",
       "      <th>ID</th>\n",
       "      <th>goal</th>\n",
       "      <th>pledged</th>\n",
       "      <th>backers</th>\n",
       "      <th>usd pledged</th>\n",
       "      <th>usd_pledged_real</th>\n",
       "      <th>usd_goal_real</th>\n",
       "    </tr>\n",
       "  </thead>\n",
       "  <tbody>\n",
       "    <tr>\n",
       "      <th>count</th>\n",
       "      <td>378,661.00</td>\n",
       "      <td>378,661.00</td>\n",
       "      <td>378,661.00</td>\n",
       "      <td>378,661.00</td>\n",
       "      <td>374,864.00</td>\n",
       "      <td>378,661.00</td>\n",
       "      <td>378,661.00</td>\n",
       "    </tr>\n",
       "    <tr>\n",
       "      <th>mean</th>\n",
       "      <td>1,074,731,191.99</td>\n",
       "      <td>49,080.79</td>\n",
       "      <td>9,682.98</td>\n",
       "      <td>105.62</td>\n",
       "      <td>7,036.73</td>\n",
       "      <td>9,058.92</td>\n",
       "      <td>45,454.40</td>\n",
       "    </tr>\n",
       "    <tr>\n",
       "      <th>std</th>\n",
       "      <td>619,086,204.32</td>\n",
       "      <td>1,183,391.26</td>\n",
       "      <td>95,636.01</td>\n",
       "      <td>907.19</td>\n",
       "      <td>78,639.75</td>\n",
       "      <td>90,973.34</td>\n",
       "      <td>1,152,950.06</td>\n",
       "    </tr>\n",
       "    <tr>\n",
       "      <th>min</th>\n",
       "      <td>5,971.00</td>\n",
       "      <td>0.01</td>\n",
       "      <td>0.00</td>\n",
       "      <td>0.00</td>\n",
       "      <td>0.00</td>\n",
       "      <td>0.00</td>\n",
       "      <td>0.01</td>\n",
       "    </tr>\n",
       "    <tr>\n",
       "      <th>25%</th>\n",
       "      <td>538,263,516.00</td>\n",
       "      <td>2,000.00</td>\n",
       "      <td>30.00</td>\n",
       "      <td>2.00</td>\n",
       "      <td>16.98</td>\n",
       "      <td>31.00</td>\n",
       "      <td>2,000.00</td>\n",
       "    </tr>\n",
       "    <tr>\n",
       "      <th>50%</th>\n",
       "      <td>1,075,275,634.00</td>\n",
       "      <td>5,200.00</td>\n",
       "      <td>620.00</td>\n",
       "      <td>12.00</td>\n",
       "      <td>394.72</td>\n",
       "      <td>624.33</td>\n",
       "      <td>5,500.00</td>\n",
       "    </tr>\n",
       "    <tr>\n",
       "      <th>75%</th>\n",
       "      <td>1,610,148,624.00</td>\n",
       "      <td>16,000.00</td>\n",
       "      <td>4,076.00</td>\n",
       "      <td>56.00</td>\n",
       "      <td>3,034.09</td>\n",
       "      <td>4,050.00</td>\n",
       "      <td>15,500.00</td>\n",
       "    </tr>\n",
       "    <tr>\n",
       "      <th>max</th>\n",
       "      <td>2,147,476,221.00</td>\n",
       "      <td>100,000,000.00</td>\n",
       "      <td>20,338,986.27</td>\n",
       "      <td>219,382.00</td>\n",
       "      <td>20,338,986.27</td>\n",
       "      <td>20,338,986.27</td>\n",
       "      <td>166,361,390.71</td>\n",
       "    </tr>\n",
       "  </tbody>\n",
       "</table>\n",
       "</div>"
      ],
      "text/plain": [
       "                        ID                 goal              pledged  \\\n",
       "count           378,661.00           378,661.00           378,661.00   \n",
       "mean      1,074,731,191.99            49,080.79             9,682.98   \n",
       "std         619,086,204.32         1,183,391.26            95,636.01   \n",
       "min               5,971.00                 0.01                 0.00   \n",
       "25%         538,263,516.00             2,000.00                30.00   \n",
       "50%       1,075,275,634.00             5,200.00               620.00   \n",
       "75%       1,610,148,624.00            16,000.00             4,076.00   \n",
       "max       2,147,476,221.00       100,000,000.00        20,338,986.27   \n",
       "\n",
       "                   backers          usd pledged     usd_pledged_real  \\\n",
       "count           378,661.00           374,864.00           378,661.00   \n",
       "mean                105.62             7,036.73             9,058.92   \n",
       "std                 907.19            78,639.75            90,973.34   \n",
       "min                   0.00                 0.00                 0.00   \n",
       "25%                   2.00                16.98                31.00   \n",
       "50%                  12.00               394.72               624.33   \n",
       "75%                  56.00             3,034.09             4,050.00   \n",
       "max             219,382.00        20,338,986.27        20,338,986.27   \n",
       "\n",
       "             usd_goal_real  \n",
       "count           378,661.00  \n",
       "mean             45,454.40  \n",
       "std           1,152,950.06  \n",
       "min                   0.01  \n",
       "25%               2,000.00  \n",
       "50%               5,500.00  \n",
       "75%              15,500.00  \n",
       "max         166,361,390.71  "
      ]
     },
     "execution_count": 57,
     "metadata": {},
     "output_type": "execute_result"
    }
   ],
   "source": [
    "#Detalle de los valores numericos\n",
    "data.describe()"
   ]
  },
  {
   "cell_type": "markdown",
   "metadata": {},
   "source": [
    "Notas:\n",
    "1. *La cantidad de USD promedio para lograr alcanzar el objetivo de un proyecto es de \\$45,454*\n",
    "2. *La candidad promedio de dinero aportardo en un proyecto es de \\$9,058*\n",
    "3. *La cantidad promedio de persona que brindan soporte a un proyecto es de 105*\n",
    "4. *La maxima cantidad de dinero solicitado para un proyecto es de mas de \\$166 millones*\n",
    "5. *La maxima cantidad de dinero recaudado para un proyecto es de mas de \\$20 millones*"
   ]
  },
  {
   "cell_type": "code",
   "execution_count": 62,
   "metadata": {},
   "outputs": [
    {
     "data": {
      "text/plain": [
       "ID                  378661\n",
       "name                375764\n",
       "category               159\n",
       "main_category           15\n",
       "currency                14\n",
       "deadline              3164\n",
       "goal                  8353\n",
       "launched            378089\n",
       "pledged              62130\n",
       "state                    6\n",
       "backers               3963\n",
       "country                 23\n",
       "usd pledged          95455\n",
       "usd_pledged_real    106065\n",
       "usd_goal_real        50339\n",
       "dtype: int64"
      ]
     },
     "execution_count": 62,
     "metadata": {},
     "output_type": "execute_result"
    }
   ],
   "source": [
    "#Valores unicos por columna\n",
    "data.apply(pd.Series.nunique)"
   ]
  },
  {
   "cell_type": "markdown",
   "metadata": {},
   "source": [
    "Notas:\n",
    "1. *Hay un posible correlacion entre category y main_category*\n",
    "2. *Hay 14 posibles tipos de moneda*\n",
    "3. *Un proyecto puede tener 6 estados diferentes*\n",
    "4. *Hay proyectos de 23 paises diferentes*"
   ]
  },
  {
   "cell_type": "markdown",
   "metadata": {},
   "source": [
    "#### Categorias"
   ]
  },
  {
   "cell_type": "code",
   "execution_count": 131,
   "metadata": {
    "scrolled": true
   },
   "outputs": [
    {
     "data": {
      "text/plain": [
       "main_category  category         \n",
       "Art            Art                  8253\n",
       "               Ceramics              305\n",
       "               Conceptual Art       1030\n",
       "               Digital Art          1346\n",
       "               Illustration         3175\n",
       "               Installations         482\n",
       "               Mixed Media          2757\n",
       "               Painting             3294\n",
       "               Performance Art      2154\n",
       "               Public Art           3077\n",
       "               Sculpture            1810\n",
       "               Textiles              276\n",
       "               Video Art             194\n",
       "Comics         Anthologies           405\n",
       "               Comic Books          2743\n",
       "               Comics               4996\n",
       "               Events                163\n",
       "               Graphic Novels       1864\n",
       "               Webcomics             648\n",
       "Crafts         Candles               429\n",
       "               Crafts               4664\n",
       "               Crochet               162\n",
       "               DIY                  1173\n",
       "               Embroidery            113\n",
       "               Glass                 138\n",
       "               Knitting              181\n",
       "               Letterpress            38\n",
       "               Pottery               100\n",
       "               Printing              238\n",
       "               Quilts                 81\n",
       "                                    ... \n",
       "Publishing     Poetry               1369\n",
       "               Publishing           6018\n",
       "               Radio & Podcasts      923\n",
       "               Translations          153\n",
       "               Young Adult           821\n",
       "               Zines                 391\n",
       "Technology     3D Printing           683\n",
       "               Apps                 6345\n",
       "               Camera Equipment      416\n",
       "               DIY Electronics       902\n",
       "               Fabrication Tools     250\n",
       "               Flight                426\n",
       "               Gadgets              2965\n",
       "               Hardware             3663\n",
       "               Makerspaces           238\n",
       "               Robots                572\n",
       "               Software             3048\n",
       "               Sound                 669\n",
       "               Space Exploration     323\n",
       "               Technology           6930\n",
       "               Wearables            1233\n",
       "               Web                  3906\n",
       "Theater        Comedy                101\n",
       "               Experimental          373\n",
       "               Festivals             548\n",
       "               Immersive             330\n",
       "               Musical               913\n",
       "               Plays                1378\n",
       "               Spaces                213\n",
       "               Theater              7057\n",
       "Length: 170, dtype: int64"
      ]
     },
     "execution_count": 131,
     "metadata": {},
     "output_type": "execute_result"
    }
   ],
   "source": [
    "#Validacion de relacion entre category y main_category\n",
    "data.groupby(['main_category', 'category']).size()"
   ]
  },
  {
   "cell_type": "code",
   "execution_count": 130,
   "metadata": {},
   "outputs": [
    {
     "data": {
      "text/plain": [
       "<matplotlib.axes._subplots.AxesSubplot at 0x133418240>"
      ]
     },
     "execution_count": 130,
     "metadata": {},
     "output_type": "execute_result"
    },
    {
     "data": {
      "image/png": "[encoded data removed]",
      "text/plain": [
       "<Figure size 432x288 with 1 Axes>"
      ]
     },
     "metadata": {},
     "output_type": "display_data"
    }
   ],
   "source": [
    "data.dropna(subset=[\"main_category\"])\n",
    "datos = data.groupby(\"main_category\")[\"category\"].count().sort_values(ascending=False)[:15]\n",
    "\n",
    "def obtenerLabel(percentage):\n",
    "    label = datos.sum()*percentage//100\n",
    "    return str(label)\n",
    "\n",
    "datos.plot(kind=\"pie\", autopct=obtenerLabel)"
   ]
  },
  {
   "cell_type": "markdown",
   "metadata": {},
   "source": [
    "#### Moneda"
   ]
  },
  {
   "cell_type": "code",
   "execution_count": 105,
   "metadata": {
    "scrolled": true
   },
   "outputs": [
    {
     "data": {
      "text/plain": [
       "currency\n",
       "AUD      7950\n",
       "CAD     14962\n",
       "CHF       768\n",
       "DKK      1129\n",
       "EUR     17405\n",
       "GBP     34132\n",
       "HKD       618\n",
       "JPY        40\n",
       "MXN      1752\n",
       "NOK       722\n",
       "NZD      1475\n",
       "SEK      1788\n",
       "SGD       555\n",
       "USD    295365\n",
       "dtype: int64"
      ]
     },
     "execution_count": 105,
     "metadata": {},
     "output_type": "execute_result"
    }
   ],
   "source": [
    "#dist\n",
    "data.groupby(['currency']).size()"
   ]
  },
  {
   "cell_type": "code",
   "execution_count": 129,
   "metadata": {
    "scrolled": true
   },
   "outputs": [
    {
     "data": {
      "image/png": "[encoded data removed]",
      "text/plain": [
       "<Figure size 720x360 with 1 Axes>"
      ]
     },
     "metadata": {
      "needs_background": "light"
     },
     "output_type": "display_data"
    }
   ],
   "source": [
    "valores = data.groupby('currency')['currency'].count()\n",
    "\n",
    "# Plot the figure.\n",
    "plt.figure(figsize=(10, 5))\n",
    "ax = valores.plot(kind='bar')\n",
    "ax.set_title('Distribucion de tipos de moneda')\n",
    "ax.set_xlabel('Moneda')\n",
    "ax.set_ylabel('Total de proyectos')\n",
    "\n",
    "barras = ax.patches\n",
    "\n",
    "for barra, label in zip(barras, valores.values):\n",
    "    height = barra.get_height()\n",
    "    ax.text(barra.get_x() + barra.get_width() / 2, height, str(label)[:7],\n",
    "            ha='center', va='bottom')\n"
   ]
  },
  {
   "cell_type": "markdown",
   "metadata": {},
   "source": [
    "Nota:\n",
    " 1. *La columna usd_pledged_real convierte el valor monetario de las monedas que no son norteamericanas a USD*"
   ]
  },
  {
   "cell_type": "markdown",
   "metadata": {},
   "source": [
    "#### Estados de Proyectos"
   ]
  },
  {
   "cell_type": "code",
   "execution_count": 137,
   "metadata": {},
   "outputs": [
    {
     "data": {
      "image/png": "[encoded data removed]",
      "text/plain": [
       "<Figure size 720x360 with 1 Axes>"
      ]
     },
     "metadata": {
      "needs_background": "light"
     },
     "output_type": "display_data"
    }
   ],
   "source": [
    "valores = data.groupby('state')['state'].count()\n",
    "\n",
    "# Plot the figure.\n",
    "plt.figure(figsize=(10, 5))\n",
    "ax = valores.plot(kind='bar')\n",
    "ax.set_title('Distribucion de tipos de estado')\n",
    "ax.set_xlabel('Estado')\n",
    "ax.set_ylabel('Total de proyectos')\n",
    "\n",
    "barras = ax.patches\n",
    "\n",
    "for barra, label in zip(barras, valores.values):\n",
    "    height = barra.get_height()\n",
    "    ax.text(barra.get_x() + barra.get_width() / 2, height, str(label)[:7],\n",
    "            ha='center', va='bottom')\n"
   ]
  },
  {
   "cell_type": "markdown",
   "metadata": {},
   "source": [
    "Nota:\n",
    "1. *Para propositos de la evaluacion solo serian de interes los estados failed y sucessful*"
   ]
  },
  {
   "cell_type": "markdown",
   "metadata": {},
   "source": [
    "#### Paises"
   ]
  },
  {
   "cell_type": "code",
   "execution_count": 138,
   "metadata": {},
   "outputs": [
    {
     "data": {
      "text/plain": [
       "country\n",
       "AT         597\n",
       "AU        7839\n",
       "BE         617\n",
       "CA       14756\n",
       "CH         761\n",
       "DE        4171\n",
       "DK        1113\n",
       "ES        2276\n",
       "FR        2939\n",
       "GB       33672\n",
       "HK         618\n",
       "IE         811\n",
       "IT        2878\n",
       "JP          40\n",
       "LU          62\n",
       "MX        1752\n",
       "N,0\"      3797\n",
       "NL        2868\n",
       "NO         708\n",
       "NZ        1447\n",
       "SE        1757\n",
       "SG         555\n",
       "US      292627\n",
       "dtype: int64"
      ]
     },
     "execution_count": 138,
     "metadata": {},
     "output_type": "execute_result"
    }
   ],
   "source": [
    "data.groupby(['country']).size()"
   ]
  },
  {
   "cell_type": "code",
   "execution_count": 140,
   "metadata": {},
   "outputs": [
    {
     "data": {
      "image/png": "[encoded data removed]",
      "text/plain": [
       "<Figure size 1080x360 with 1 Axes>"
      ]
     },
     "metadata": {
      "needs_background": "light"
     },
     "output_type": "display_data"
    }
   ],
   "source": [
    "valores = data.groupby('country')['country'].count()\n",
    "\n",
    "# Plot the figure.\n",
    "plt.figure(figsize=(15, 5))\n",
    "ax = valores.plot(kind='bar')\n",
    "ax.set_title('Distribucion de Paises')\n",
    "ax.set_xlabel('Pais')\n",
    "ax.set_ylabel('Total de proyectos')\n",
    "\n",
    "barras = ax.patches\n",
    "\n",
    "for barra, label in zip(barras, valores.values):\n",
    "    height = barra.get_height()\n",
    "    ax.text(barra.get_x() + barra.get_width() / 2, height, str(label)[:7],\n",
    "            ha='center', va='bottom')"
   ]
  },
  {
   "cell_type": "markdown",
   "metadata": {},
   "source": [
    "Notas:\n",
    "1. *Hay 3,797 registros con un codigo de pais invalido: N,0\""
   ]
  },
  {
   "cell_type": "markdown",
   "metadata": {},
   "source": [
    "## 2. Preparacion de los datos:\n",
    "---\n",
    "Luego de evaluar los datos procedemos a definir y aplicar reglas de datos para remover, consolidar y en general preparar los datos para su evaluacion (relacionada al proposito del proyecto)"
   ]
  },
  {
   "cell_type": "code",
   "execution_count": null,
   "metadata": {},
   "outputs": [],
   "source": []
  }
 ],
 "metadata": {
  "kernelspec": {
   "display_name": "Python 3",
   "language": "python",
   "name": "python3"
  },
  "language_info": {
   "codemirror_mode": {
    "name": "ipython",
    "version": 3
   },
   "file_extension": ".py",
   "mimetype": "text/x-python",
   "name": "python",
   "nbconvert_exporter": "python",
   "pygments_lexer": "ipython3",
   "version": "3.7.1"
  }
 },
 "nbformat": 4,
 "nbformat_minor": 2
}
